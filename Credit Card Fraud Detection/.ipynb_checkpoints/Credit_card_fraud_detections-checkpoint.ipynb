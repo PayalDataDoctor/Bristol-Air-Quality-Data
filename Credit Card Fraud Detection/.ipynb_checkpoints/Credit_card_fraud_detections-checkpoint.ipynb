{
 "cells": [
  {
   "cell_type": "markdown",
   "metadata": {},
   "source": [
    "## Step 1 – Import Packages\n",
    "#### The import keyword is used to make code from one module accessible in another. I may reuse code and keep my project maintainable by using imports effectively, which can increase my productivity."
   ]
  },
  {
   "cell_type": "code",
   "execution_count": 1,
   "metadata": {},
   "outputs": [],
   "source": [
    "\n",
    "import pandas as pd \n",
    "import numpy as np  \n",
    "import matplotlib.colors as mcolors \n",
    "\n",
    "import matplotlib.pyplot as plt \n",
    "import seaborn as sns \n",
    "\n",
    "\n",
    "from sklearn.model_selection import train_test_split \n",
    "from sklearn.preprocessing import RobustScaler \n",
    "\n",
    "\n",
    "from imblearn.under_sampling import RandomUnderSampler \n",
    "from imblearn.over_sampling import RandomOverSampler \n",
    "from imblearn.over_sampling import ADASYN \n",
    "\n",
    "from collections import Counter\n",
    "\n",
    "\n",
    "\n",
    "from sklearn.linear_model import LogisticRegression \n",
    "from xgboost import XGBClassifier  \n",
    "from sklearn.tree import DecisionTreeClassifier , plot_tree \n",
    "from sklearn.ensemble import RandomForestClassifier\n",
    "\n",
    "\n",
    "\n",
    "# Importing packages for Cross - validation\n",
    "from sklearn.model_selection import KFold\n",
    "from sklearn.model_selection import cross_val_score\n",
    "from sklearn.model_selection import GridSearchCV\n",
    "from sklearn.model_selection import StratifiedKFold\n",
    "\n",
    "\n",
    "# For ignoring the warning that come at the time of execution\n",
    "import warnings\n",
    "warnings.filterwarnings('ignore') #for ignore warnings\n",
    "\n",
    "\n",
    "\n",
    "# Importing packages for performance evaluation metrics\n",
    "from sklearn import metrics\n",
    "from sklearn.metrics import confusion_matrix\n",
    "from sklearn.metrics import f1_score\n",
    "from sklearn.metrics import classification_report\n",
    "from sklearn.metrics import ConfusionMatrixDisplay\n",
    "\n",
    "\n"
   ]
  },
  {
   "cell_type": "markdown",
   "metadata": {},
   "source": [
    "\n",
    "## Step 2 – Dataset Analysis\n",
    "### 2.1 Reading CSV data\n",
    "#### I will read the data from CSV file using pandas, and then print the  first five rows by head() and last five rows of the dataset by tail() methods"
   ]
  },
  {
   "cell_type": "code",
   "execution_count": 2,
   "metadata": {},
   "outputs": [
    {
     "data": {
      "text/html": [
       "<div>\n",
       "<style scoped>\n",
       "    .dataframe tbody tr th:only-of-type {\n",
       "        vertical-align: middle;\n",
       "    }\n",
       "\n",
       "    .dataframe tbody tr th {\n",
       "        vertical-align: top;\n",
       "    }\n",
       "\n",
       "    .dataframe thead th {\n",
       "        text-align: right;\n",
       "    }\n",
       "</style>\n",
       "<table border=\"1\" class=\"dataframe\">\n",
       "  <thead>\n",
       "    <tr style=\"text-align: right;\">\n",
       "      <th></th>\n",
       "      <th>Time</th>\n",
       "      <th>V1</th>\n",
       "      <th>V2</th>\n",
       "      <th>V3</th>\n",
       "      <th>V4</th>\n",
       "      <th>V5</th>\n",
       "      <th>V6</th>\n",
       "      <th>V7</th>\n",
       "      <th>V8</th>\n",
       "      <th>V9</th>\n",
       "      <th>...</th>\n",
       "      <th>V21</th>\n",
       "      <th>V22</th>\n",
       "      <th>V23</th>\n",
       "      <th>V24</th>\n",
       "      <th>V25</th>\n",
       "      <th>V26</th>\n",
       "      <th>V27</th>\n",
       "      <th>V28</th>\n",
       "      <th>Amount</th>\n",
       "      <th>Class</th>\n",
       "    </tr>\n",
       "  </thead>\n",
       "  <tbody>\n",
       "    <tr>\n",
       "      <th>0</th>\n",
       "      <td>0.0</td>\n",
       "      <td>-1.359807</td>\n",
       "      <td>-0.072781</td>\n",
       "      <td>2.536347</td>\n",
       "      <td>1.378155</td>\n",
       "      <td>-0.338321</td>\n",
       "      <td>0.462388</td>\n",
       "      <td>0.239599</td>\n",
       "      <td>0.098698</td>\n",
       "      <td>0.363787</td>\n",
       "      <td>...</td>\n",
       "      <td>-0.018307</td>\n",
       "      <td>0.277838</td>\n",
       "      <td>-0.110474</td>\n",
       "      <td>0.066928</td>\n",
       "      <td>0.128539</td>\n",
       "      <td>-0.189115</td>\n",
       "      <td>0.133558</td>\n",
       "      <td>-0.021053</td>\n",
       "      <td>149.62</td>\n",
       "      <td>0</td>\n",
       "    </tr>\n",
       "    <tr>\n",
       "      <th>1</th>\n",
       "      <td>0.0</td>\n",
       "      <td>1.191857</td>\n",
       "      <td>0.266151</td>\n",
       "      <td>0.166480</td>\n",
       "      <td>0.448154</td>\n",
       "      <td>0.060018</td>\n",
       "      <td>-0.082361</td>\n",
       "      <td>-0.078803</td>\n",
       "      <td>0.085102</td>\n",
       "      <td>-0.255425</td>\n",
       "      <td>...</td>\n",
       "      <td>-0.225775</td>\n",
       "      <td>-0.638672</td>\n",
       "      <td>0.101288</td>\n",
       "      <td>-0.339846</td>\n",
       "      <td>0.167170</td>\n",
       "      <td>0.125895</td>\n",
       "      <td>-0.008983</td>\n",
       "      <td>0.014724</td>\n",
       "      <td>2.69</td>\n",
       "      <td>0</td>\n",
       "    </tr>\n",
       "    <tr>\n",
       "      <th>2</th>\n",
       "      <td>1.0</td>\n",
       "      <td>-1.358354</td>\n",
       "      <td>-1.340163</td>\n",
       "      <td>1.773209</td>\n",
       "      <td>0.379780</td>\n",
       "      <td>-0.503198</td>\n",
       "      <td>1.800499</td>\n",
       "      <td>0.791461</td>\n",
       "      <td>0.247676</td>\n",
       "      <td>-1.514654</td>\n",
       "      <td>...</td>\n",
       "      <td>0.247998</td>\n",
       "      <td>0.771679</td>\n",
       "      <td>0.909412</td>\n",
       "      <td>-0.689281</td>\n",
       "      <td>-0.327642</td>\n",
       "      <td>-0.139097</td>\n",
       "      <td>-0.055353</td>\n",
       "      <td>-0.059752</td>\n",
       "      <td>378.66</td>\n",
       "      <td>0</td>\n",
       "    </tr>\n",
       "    <tr>\n",
       "      <th>3</th>\n",
       "      <td>1.0</td>\n",
       "      <td>-0.966272</td>\n",
       "      <td>-0.185226</td>\n",
       "      <td>1.792993</td>\n",
       "      <td>-0.863291</td>\n",
       "      <td>-0.010309</td>\n",
       "      <td>1.247203</td>\n",
       "      <td>0.237609</td>\n",
       "      <td>0.377436</td>\n",
       "      <td>-1.387024</td>\n",
       "      <td>...</td>\n",
       "      <td>-0.108300</td>\n",
       "      <td>0.005274</td>\n",
       "      <td>-0.190321</td>\n",
       "      <td>-1.175575</td>\n",
       "      <td>0.647376</td>\n",
       "      <td>-0.221929</td>\n",
       "      <td>0.062723</td>\n",
       "      <td>0.061458</td>\n",
       "      <td>123.50</td>\n",
       "      <td>0</td>\n",
       "    </tr>\n",
       "    <tr>\n",
       "      <th>4</th>\n",
       "      <td>2.0</td>\n",
       "      <td>-1.158233</td>\n",
       "      <td>0.877737</td>\n",
       "      <td>1.548718</td>\n",
       "      <td>0.403034</td>\n",
       "      <td>-0.407193</td>\n",
       "      <td>0.095921</td>\n",
       "      <td>0.592941</td>\n",
       "      <td>-0.270533</td>\n",
       "      <td>0.817739</td>\n",
       "      <td>...</td>\n",
       "      <td>-0.009431</td>\n",
       "      <td>0.798278</td>\n",
       "      <td>-0.137458</td>\n",
       "      <td>0.141267</td>\n",
       "      <td>-0.206010</td>\n",
       "      <td>0.502292</td>\n",
       "      <td>0.219422</td>\n",
       "      <td>0.215153</td>\n",
       "      <td>69.99</td>\n",
       "      <td>0</td>\n",
       "    </tr>\n",
       "    <tr>\n",
       "      <th>284802</th>\n",
       "      <td>172786.0</td>\n",
       "      <td>-11.881118</td>\n",
       "      <td>10.071785</td>\n",
       "      <td>-9.834783</td>\n",
       "      <td>-2.066656</td>\n",
       "      <td>-5.364473</td>\n",
       "      <td>-2.606837</td>\n",
       "      <td>-4.918215</td>\n",
       "      <td>7.305334</td>\n",
       "      <td>1.914428</td>\n",
       "      <td>...</td>\n",
       "      <td>0.213454</td>\n",
       "      <td>0.111864</td>\n",
       "      <td>1.014480</td>\n",
       "      <td>-0.509348</td>\n",
       "      <td>1.436807</td>\n",
       "      <td>0.250034</td>\n",
       "      <td>0.943651</td>\n",
       "      <td>0.823731</td>\n",
       "      <td>0.77</td>\n",
       "      <td>0</td>\n",
       "    </tr>\n",
       "    <tr>\n",
       "      <th>284803</th>\n",
       "      <td>172787.0</td>\n",
       "      <td>-0.732789</td>\n",
       "      <td>-0.055080</td>\n",
       "      <td>2.035030</td>\n",
       "      <td>-0.738589</td>\n",
       "      <td>0.868229</td>\n",
       "      <td>1.058415</td>\n",
       "      <td>0.024330</td>\n",
       "      <td>0.294869</td>\n",
       "      <td>0.584800</td>\n",
       "      <td>...</td>\n",
       "      <td>0.214205</td>\n",
       "      <td>0.924384</td>\n",
       "      <td>0.012463</td>\n",
       "      <td>-1.016226</td>\n",
       "      <td>-0.606624</td>\n",
       "      <td>-0.395255</td>\n",
       "      <td>0.068472</td>\n",
       "      <td>-0.053527</td>\n",
       "      <td>24.79</td>\n",
       "      <td>0</td>\n",
       "    </tr>\n",
       "    <tr>\n",
       "      <th>284804</th>\n",
       "      <td>172788.0</td>\n",
       "      <td>1.919565</td>\n",
       "      <td>-0.301254</td>\n",
       "      <td>-3.249640</td>\n",
       "      <td>-0.557828</td>\n",
       "      <td>2.630515</td>\n",
       "      <td>3.031260</td>\n",
       "      <td>-0.296827</td>\n",
       "      <td>0.708417</td>\n",
       "      <td>0.432454</td>\n",
       "      <td>...</td>\n",
       "      <td>0.232045</td>\n",
       "      <td>0.578229</td>\n",
       "      <td>-0.037501</td>\n",
       "      <td>0.640134</td>\n",
       "      <td>0.265745</td>\n",
       "      <td>-0.087371</td>\n",
       "      <td>0.004455</td>\n",
       "      <td>-0.026561</td>\n",
       "      <td>67.88</td>\n",
       "      <td>0</td>\n",
       "    </tr>\n",
       "    <tr>\n",
       "      <th>284805</th>\n",
       "      <td>172788.0</td>\n",
       "      <td>-0.240440</td>\n",
       "      <td>0.530483</td>\n",
       "      <td>0.702510</td>\n",
       "      <td>0.689799</td>\n",
       "      <td>-0.377961</td>\n",
       "      <td>0.623708</td>\n",
       "      <td>-0.686180</td>\n",
       "      <td>0.679145</td>\n",
       "      <td>0.392087</td>\n",
       "      <td>...</td>\n",
       "      <td>0.265245</td>\n",
       "      <td>0.800049</td>\n",
       "      <td>-0.163298</td>\n",
       "      <td>0.123205</td>\n",
       "      <td>-0.569159</td>\n",
       "      <td>0.546668</td>\n",
       "      <td>0.108821</td>\n",
       "      <td>0.104533</td>\n",
       "      <td>10.00</td>\n",
       "      <td>0</td>\n",
       "    </tr>\n",
       "    <tr>\n",
       "      <th>284806</th>\n",
       "      <td>172792.0</td>\n",
       "      <td>-0.533413</td>\n",
       "      <td>-0.189733</td>\n",
       "      <td>0.703337</td>\n",
       "      <td>-0.506271</td>\n",
       "      <td>-0.012546</td>\n",
       "      <td>-0.649617</td>\n",
       "      <td>1.577006</td>\n",
       "      <td>-0.414650</td>\n",
       "      <td>0.486180</td>\n",
       "      <td>...</td>\n",
       "      <td>0.261057</td>\n",
       "      <td>0.643078</td>\n",
       "      <td>0.376777</td>\n",
       "      <td>0.008797</td>\n",
       "      <td>-0.473649</td>\n",
       "      <td>-0.818267</td>\n",
       "      <td>-0.002415</td>\n",
       "      <td>0.013649</td>\n",
       "      <td>217.00</td>\n",
       "      <td>0</td>\n",
       "    </tr>\n",
       "  </tbody>\n",
       "</table>\n",
       "<p>10 rows × 31 columns</p>\n",
       "</div>"
      ],
      "text/plain": [
       "            Time         V1         V2        V3        V4        V5  \\\n",
       "0            0.0  -1.359807  -0.072781  2.536347  1.378155 -0.338321   \n",
       "1            0.0   1.191857   0.266151  0.166480  0.448154  0.060018   \n",
       "2            1.0  -1.358354  -1.340163  1.773209  0.379780 -0.503198   \n",
       "3            1.0  -0.966272  -0.185226  1.792993 -0.863291 -0.010309   \n",
       "4            2.0  -1.158233   0.877737  1.548718  0.403034 -0.407193   \n",
       "284802  172786.0 -11.881118  10.071785 -9.834783 -2.066656 -5.364473   \n",
       "284803  172787.0  -0.732789  -0.055080  2.035030 -0.738589  0.868229   \n",
       "284804  172788.0   1.919565  -0.301254 -3.249640 -0.557828  2.630515   \n",
       "284805  172788.0  -0.240440   0.530483  0.702510  0.689799 -0.377961   \n",
       "284806  172792.0  -0.533413  -0.189733  0.703337 -0.506271 -0.012546   \n",
       "\n",
       "              V6        V7        V8        V9  ...       V21       V22  \\\n",
       "0       0.462388  0.239599  0.098698  0.363787  ... -0.018307  0.277838   \n",
       "1      -0.082361 -0.078803  0.085102 -0.255425  ... -0.225775 -0.638672   \n",
       "2       1.800499  0.791461  0.247676 -1.514654  ...  0.247998  0.771679   \n",
       "3       1.247203  0.237609  0.377436 -1.387024  ... -0.108300  0.005274   \n",
       "4       0.095921  0.592941 -0.270533  0.817739  ... -0.009431  0.798278   \n",
       "284802 -2.606837 -4.918215  7.305334  1.914428  ...  0.213454  0.111864   \n",
       "284803  1.058415  0.024330  0.294869  0.584800  ...  0.214205  0.924384   \n",
       "284804  3.031260 -0.296827  0.708417  0.432454  ...  0.232045  0.578229   \n",
       "284805  0.623708 -0.686180  0.679145  0.392087  ...  0.265245  0.800049   \n",
       "284806 -0.649617  1.577006 -0.414650  0.486180  ...  0.261057  0.643078   \n",
       "\n",
       "             V23       V24       V25       V26       V27       V28  Amount  \\\n",
       "0      -0.110474  0.066928  0.128539 -0.189115  0.133558 -0.021053  149.62   \n",
       "1       0.101288 -0.339846  0.167170  0.125895 -0.008983  0.014724    2.69   \n",
       "2       0.909412 -0.689281 -0.327642 -0.139097 -0.055353 -0.059752  378.66   \n",
       "3      -0.190321 -1.175575  0.647376 -0.221929  0.062723  0.061458  123.50   \n",
       "4      -0.137458  0.141267 -0.206010  0.502292  0.219422  0.215153   69.99   \n",
       "284802  1.014480 -0.509348  1.436807  0.250034  0.943651  0.823731    0.77   \n",
       "284803  0.012463 -1.016226 -0.606624 -0.395255  0.068472 -0.053527   24.79   \n",
       "284804 -0.037501  0.640134  0.265745 -0.087371  0.004455 -0.026561   67.88   \n",
       "284805 -0.163298  0.123205 -0.569159  0.546668  0.108821  0.104533   10.00   \n",
       "284806  0.376777  0.008797 -0.473649 -0.818267 -0.002415  0.013649  217.00   \n",
       "\n",
       "        Class  \n",
       "0           0  \n",
       "1           0  \n",
       "2           0  \n",
       "3           0  \n",
       "4           0  \n",
       "284802      0  \n",
       "284803      0  \n",
       "284804      0  \n",
       "284805      0  \n",
       "284806      0  \n",
       "\n",
       "[10 rows x 31 columns]"
      ]
     },
     "execution_count": 2,
     "metadata": {},
     "output_type": "execute_result"
    }
   ],
   "source": [
    "#Import the dataset and print the result\n",
    "\n",
    "creditcard_df = pd.read_csv('creditcard.csv')\n",
    "creditcard_df.head().append(creditcard_df.tail())"
   ]
  },
  {
   "cell_type": "markdown",
   "metadata": {},
   "source": [
    "### Insight of result\n",
    "#### We can see from the result that time column is a seconds to define the time between the current and first transactions.Amount column define the amount of the transaction. Class 0 indicates Normal Transaction and 1 indicates Abnormal Transactions. 'Time' and 'Amount' are the only features that are not transformed to PCA."
   ]
  },
  {
   "cell_type": "markdown",
   "metadata": {},
   "source": [
    "### 2.2 Understanding data\n",
    "#### In follwing code I have a look at the number of Abnormal and Normal cases in dataset as well as  also calculate the percentage of abnormal cases and normal cases in the total number of recorded transactions. "
   ]
  },
  {
   "cell_type": "code",
   "execution_count": 3,
   "metadata": {},
   "outputs": [
    {
     "name": "stdout",
     "output_type": "stream",
     "text": [
      "Total Number of Transactions in creditcard dataset is :  284807 \n",
      "\n",
      "The entire credit card dataset's number of abnormal transactions is :  492\n",
      "The entire credit card dataset's number of normal transactions is :  284315 \n",
      "\n",
      "The proportion of abnormal transactions is found in the credit card dataset is :  0.17\n",
      "The proportion of normal transactions is found in the credit card dataset is :  99.83\n"
     ]
    }
   ],
   "source": [
    "# Size of the dataset\n",
    "creditcard_cases = len(creditcard_df)\n",
    "print(\"This are the Total Number of Transactions in creditcard dataset is : \",creditcard_cases,\"\\n\")\n",
    "\n",
    "\n",
    "# Size of the abnormal and normal transactions\n",
    "abnormal_transaction = len(creditcard_df[creditcard_df.Class == 1])\n",
    "normal_transaction = len(creditcard_df[creditcard_df.Class == 0])\n",
    "\n",
    "\n",
    "\n",
    "\n",
    "# calculating the proportion of abnormal and normal transactions\n",
    "abnormal_t_percentage = round(abnormal_transaction/creditcard_cases*100,2)\n",
    "normal_t_percentage = round(normal_transaction/creditcard_cases*100,2)\n",
    "\n",
    "# Printing all the results\n",
    "print(\"The entire credit card dataset's number of abnormal transactions is : \",abnormal_transaction)\n",
    "print(\"The entire credit card dataset's number of normal transactions is : \",normal_transaction,\"\\n\")\n",
    "print(\"The proportion of abnormal transactions is found in the credit card dataset is : \",abnormal_t_percentage)\n",
    "print(\"The proportion of normal transactions is found in the credit card dataset is : \",normal_t_percentage)"
   ]
  },
  {
   "cell_type": "markdown",
   "metadata": {},
   "source": [
    "### 2.3 Summary of dataset\n",
    "#### The percentile, mean, and standard deviation of the numerical values of the Series or DataFrame are calculated using the describe() method. It examines mixed data type DataFrame column sets as well as numeric and object series."
   ]
  },
  {
   "cell_type": "markdown",
   "metadata": {},
   "source": [
    "### 2.3.1 Whole dataset descriptive statistics"
   ]
  },
  {
   "cell_type": "code",
   "execution_count": 4,
   "metadata": {
    "scrolled": true
   },
   "outputs": [
    {
     "data": {
      "text/html": [
       "<div>\n",
       "<style scoped>\n",
       "    .dataframe tbody tr th:only-of-type {\n",
       "        vertical-align: middle;\n",
       "    }\n",
       "\n",
       "    .dataframe tbody tr th {\n",
       "        vertical-align: top;\n",
       "    }\n",
       "\n",
       "    .dataframe thead th {\n",
       "        text-align: right;\n",
       "    }\n",
       "</style>\n",
       "<table border=\"1\" class=\"dataframe\">\n",
       "  <thead>\n",
       "    <tr style=\"text-align: right;\">\n",
       "      <th></th>\n",
       "      <th>Time</th>\n",
       "      <th>V1</th>\n",
       "      <th>V2</th>\n",
       "      <th>V3</th>\n",
       "      <th>V4</th>\n",
       "      <th>V5</th>\n",
       "      <th>V6</th>\n",
       "      <th>V7</th>\n",
       "      <th>V8</th>\n",
       "      <th>V9</th>\n",
       "      <th>...</th>\n",
       "      <th>V21</th>\n",
       "      <th>V22</th>\n",
       "      <th>V23</th>\n",
       "      <th>V24</th>\n",
       "      <th>V25</th>\n",
       "      <th>V26</th>\n",
       "      <th>V27</th>\n",
       "      <th>V28</th>\n",
       "      <th>Amount</th>\n",
       "      <th>Class</th>\n",
       "    </tr>\n",
       "  </thead>\n",
       "  <tbody>\n",
       "    <tr>\n",
       "      <th>count</th>\n",
       "      <td>284807.000000</td>\n",
       "      <td>2.848070e+05</td>\n",
       "      <td>2.848070e+05</td>\n",
       "      <td>2.848070e+05</td>\n",
       "      <td>2.848070e+05</td>\n",
       "      <td>2.848070e+05</td>\n",
       "      <td>2.848070e+05</td>\n",
       "      <td>2.848070e+05</td>\n",
       "      <td>2.848070e+05</td>\n",
       "      <td>2.848070e+05</td>\n",
       "      <td>...</td>\n",
       "      <td>2.848070e+05</td>\n",
       "      <td>2.848070e+05</td>\n",
       "      <td>2.848070e+05</td>\n",
       "      <td>2.848070e+05</td>\n",
       "      <td>2.848070e+05</td>\n",
       "      <td>2.848070e+05</td>\n",
       "      <td>2.848070e+05</td>\n",
       "      <td>2.848070e+05</td>\n",
       "      <td>284807.000000</td>\n",
       "      <td>284807.000000</td>\n",
       "    </tr>\n",
       "    <tr>\n",
       "      <th>mean</th>\n",
       "      <td>94813.859575</td>\n",
       "      <td>3.918649e-15</td>\n",
       "      <td>5.682686e-16</td>\n",
       "      <td>-8.761736e-15</td>\n",
       "      <td>2.811118e-15</td>\n",
       "      <td>-1.552103e-15</td>\n",
       "      <td>2.040130e-15</td>\n",
       "      <td>-1.698953e-15</td>\n",
       "      <td>-1.893285e-16</td>\n",
       "      <td>-3.147640e-15</td>\n",
       "      <td>...</td>\n",
       "      <td>1.473120e-16</td>\n",
       "      <td>8.042109e-16</td>\n",
       "      <td>5.282512e-16</td>\n",
       "      <td>4.456271e-15</td>\n",
       "      <td>1.426896e-15</td>\n",
       "      <td>1.701640e-15</td>\n",
       "      <td>-3.662252e-16</td>\n",
       "      <td>-1.217809e-16</td>\n",
       "      <td>88.349619</td>\n",
       "      <td>0.001727</td>\n",
       "    </tr>\n",
       "    <tr>\n",
       "      <th>std</th>\n",
       "      <td>47488.145955</td>\n",
       "      <td>1.958696e+00</td>\n",
       "      <td>1.651309e+00</td>\n",
       "      <td>1.516255e+00</td>\n",
       "      <td>1.415869e+00</td>\n",
       "      <td>1.380247e+00</td>\n",
       "      <td>1.332271e+00</td>\n",
       "      <td>1.237094e+00</td>\n",
       "      <td>1.194353e+00</td>\n",
       "      <td>1.098632e+00</td>\n",
       "      <td>...</td>\n",
       "      <td>7.345240e-01</td>\n",
       "      <td>7.257016e-01</td>\n",
       "      <td>6.244603e-01</td>\n",
       "      <td>6.056471e-01</td>\n",
       "      <td>5.212781e-01</td>\n",
       "      <td>4.822270e-01</td>\n",
       "      <td>4.036325e-01</td>\n",
       "      <td>3.300833e-01</td>\n",
       "      <td>250.120109</td>\n",
       "      <td>0.041527</td>\n",
       "    </tr>\n",
       "    <tr>\n",
       "      <th>min</th>\n",
       "      <td>0.000000</td>\n",
       "      <td>-5.640751e+01</td>\n",
       "      <td>-7.271573e+01</td>\n",
       "      <td>-4.832559e+01</td>\n",
       "      <td>-5.683171e+00</td>\n",
       "      <td>-1.137433e+02</td>\n",
       "      <td>-2.616051e+01</td>\n",
       "      <td>-4.355724e+01</td>\n",
       "      <td>-7.321672e+01</td>\n",
       "      <td>-1.343407e+01</td>\n",
       "      <td>...</td>\n",
       "      <td>-3.483038e+01</td>\n",
       "      <td>-1.093314e+01</td>\n",
       "      <td>-4.480774e+01</td>\n",
       "      <td>-2.836627e+00</td>\n",
       "      <td>-1.029540e+01</td>\n",
       "      <td>-2.604551e+00</td>\n",
       "      <td>-2.256568e+01</td>\n",
       "      <td>-1.543008e+01</td>\n",
       "      <td>0.000000</td>\n",
       "      <td>0.000000</td>\n",
       "    </tr>\n",
       "    <tr>\n",
       "      <th>25%</th>\n",
       "      <td>54201.500000</td>\n",
       "      <td>-9.203734e-01</td>\n",
       "      <td>-5.985499e-01</td>\n",
       "      <td>-8.903648e-01</td>\n",
       "      <td>-8.486401e-01</td>\n",
       "      <td>-6.915971e-01</td>\n",
       "      <td>-7.682956e-01</td>\n",
       "      <td>-5.540759e-01</td>\n",
       "      <td>-2.086297e-01</td>\n",
       "      <td>-6.430976e-01</td>\n",
       "      <td>...</td>\n",
       "      <td>-2.283949e-01</td>\n",
       "      <td>-5.423504e-01</td>\n",
       "      <td>-1.618463e-01</td>\n",
       "      <td>-3.545861e-01</td>\n",
       "      <td>-3.171451e-01</td>\n",
       "      <td>-3.269839e-01</td>\n",
       "      <td>-7.083953e-02</td>\n",
       "      <td>-5.295979e-02</td>\n",
       "      <td>5.600000</td>\n",
       "      <td>0.000000</td>\n",
       "    </tr>\n",
       "    <tr>\n",
       "      <th>50%</th>\n",
       "      <td>84692.000000</td>\n",
       "      <td>1.810880e-02</td>\n",
       "      <td>6.548556e-02</td>\n",
       "      <td>1.798463e-01</td>\n",
       "      <td>-1.984653e-02</td>\n",
       "      <td>-5.433583e-02</td>\n",
       "      <td>-2.741871e-01</td>\n",
       "      <td>4.010308e-02</td>\n",
       "      <td>2.235804e-02</td>\n",
       "      <td>-5.142873e-02</td>\n",
       "      <td>...</td>\n",
       "      <td>-2.945017e-02</td>\n",
       "      <td>6.781943e-03</td>\n",
       "      <td>-1.119293e-02</td>\n",
       "      <td>4.097606e-02</td>\n",
       "      <td>1.659350e-02</td>\n",
       "      <td>-5.213911e-02</td>\n",
       "      <td>1.342146e-03</td>\n",
       "      <td>1.124383e-02</td>\n",
       "      <td>22.000000</td>\n",
       "      <td>0.000000</td>\n",
       "    </tr>\n",
       "    <tr>\n",
       "      <th>75%</th>\n",
       "      <td>139320.500000</td>\n",
       "      <td>1.315642e+00</td>\n",
       "      <td>8.037239e-01</td>\n",
       "      <td>1.027196e+00</td>\n",
       "      <td>7.433413e-01</td>\n",
       "      <td>6.119264e-01</td>\n",
       "      <td>3.985649e-01</td>\n",
       "      <td>5.704361e-01</td>\n",
       "      <td>3.273459e-01</td>\n",
       "      <td>5.971390e-01</td>\n",
       "      <td>...</td>\n",
       "      <td>1.863772e-01</td>\n",
       "      <td>5.285536e-01</td>\n",
       "      <td>1.476421e-01</td>\n",
       "      <td>4.395266e-01</td>\n",
       "      <td>3.507156e-01</td>\n",
       "      <td>2.409522e-01</td>\n",
       "      <td>9.104512e-02</td>\n",
       "      <td>7.827995e-02</td>\n",
       "      <td>77.165000</td>\n",
       "      <td>0.000000</td>\n",
       "    </tr>\n",
       "    <tr>\n",
       "      <th>max</th>\n",
       "      <td>172792.000000</td>\n",
       "      <td>2.454930e+00</td>\n",
       "      <td>2.205773e+01</td>\n",
       "      <td>9.382558e+00</td>\n",
       "      <td>1.687534e+01</td>\n",
       "      <td>3.480167e+01</td>\n",
       "      <td>7.330163e+01</td>\n",
       "      <td>1.205895e+02</td>\n",
       "      <td>2.000721e+01</td>\n",
       "      <td>1.559499e+01</td>\n",
       "      <td>...</td>\n",
       "      <td>2.720284e+01</td>\n",
       "      <td>1.050309e+01</td>\n",
       "      <td>2.252841e+01</td>\n",
       "      <td>4.584549e+00</td>\n",
       "      <td>7.519589e+00</td>\n",
       "      <td>3.517346e+00</td>\n",
       "      <td>3.161220e+01</td>\n",
       "      <td>3.384781e+01</td>\n",
       "      <td>25691.160000</td>\n",
       "      <td>1.000000</td>\n",
       "    </tr>\n",
       "  </tbody>\n",
       "</table>\n",
       "<p>8 rows × 31 columns</p>\n",
       "</div>"
      ],
      "text/plain": [
       "                Time            V1            V2            V3            V4  \\\n",
       "count  284807.000000  2.848070e+05  2.848070e+05  2.848070e+05  2.848070e+05   \n",
       "mean    94813.859575  3.918649e-15  5.682686e-16 -8.761736e-15  2.811118e-15   \n",
       "std     47488.145955  1.958696e+00  1.651309e+00  1.516255e+00  1.415869e+00   \n",
       "min         0.000000 -5.640751e+01 -7.271573e+01 -4.832559e+01 -5.683171e+00   \n",
       "25%     54201.500000 -9.203734e-01 -5.985499e-01 -8.903648e-01 -8.486401e-01   \n",
       "50%     84692.000000  1.810880e-02  6.548556e-02  1.798463e-01 -1.984653e-02   \n",
       "75%    139320.500000  1.315642e+00  8.037239e-01  1.027196e+00  7.433413e-01   \n",
       "max    172792.000000  2.454930e+00  2.205773e+01  9.382558e+00  1.687534e+01   \n",
       "\n",
       "                 V5            V6            V7            V8            V9  \\\n",
       "count  2.848070e+05  2.848070e+05  2.848070e+05  2.848070e+05  2.848070e+05   \n",
       "mean  -1.552103e-15  2.040130e-15 -1.698953e-15 -1.893285e-16 -3.147640e-15   \n",
       "std    1.380247e+00  1.332271e+00  1.237094e+00  1.194353e+00  1.098632e+00   \n",
       "min   -1.137433e+02 -2.616051e+01 -4.355724e+01 -7.321672e+01 -1.343407e+01   \n",
       "25%   -6.915971e-01 -7.682956e-01 -5.540759e-01 -2.086297e-01 -6.430976e-01   \n",
       "50%   -5.433583e-02 -2.741871e-01  4.010308e-02  2.235804e-02 -5.142873e-02   \n",
       "75%    6.119264e-01  3.985649e-01  5.704361e-01  3.273459e-01  5.971390e-01   \n",
       "max    3.480167e+01  7.330163e+01  1.205895e+02  2.000721e+01  1.559499e+01   \n",
       "\n",
       "       ...           V21           V22           V23           V24  \\\n",
       "count  ...  2.848070e+05  2.848070e+05  2.848070e+05  2.848070e+05   \n",
       "mean   ...  1.473120e-16  8.042109e-16  5.282512e-16  4.456271e-15   \n",
       "std    ...  7.345240e-01  7.257016e-01  6.244603e-01  6.056471e-01   \n",
       "min    ... -3.483038e+01 -1.093314e+01 -4.480774e+01 -2.836627e+00   \n",
       "25%    ... -2.283949e-01 -5.423504e-01 -1.618463e-01 -3.545861e-01   \n",
       "50%    ... -2.945017e-02  6.781943e-03 -1.119293e-02  4.097606e-02   \n",
       "75%    ...  1.863772e-01  5.285536e-01  1.476421e-01  4.395266e-01   \n",
       "max    ...  2.720284e+01  1.050309e+01  2.252841e+01  4.584549e+00   \n",
       "\n",
       "                V25           V26           V27           V28         Amount  \\\n",
       "count  2.848070e+05  2.848070e+05  2.848070e+05  2.848070e+05  284807.000000   \n",
       "mean   1.426896e-15  1.701640e-15 -3.662252e-16 -1.217809e-16      88.349619   \n",
       "std    5.212781e-01  4.822270e-01  4.036325e-01  3.300833e-01     250.120109   \n",
       "min   -1.029540e+01 -2.604551e+00 -2.256568e+01 -1.543008e+01       0.000000   \n",
       "25%   -3.171451e-01 -3.269839e-01 -7.083953e-02 -5.295979e-02       5.600000   \n",
       "50%    1.659350e-02 -5.213911e-02  1.342146e-03  1.124383e-02      22.000000   \n",
       "75%    3.507156e-01  2.409522e-01  9.104512e-02  7.827995e-02      77.165000   \n",
       "max    7.519589e+00  3.517346e+00  3.161220e+01  3.384781e+01   25691.160000   \n",
       "\n",
       "               Class  \n",
       "count  284807.000000  \n",
       "mean        0.001727  \n",
       "std         0.041527  \n",
       "min         0.000000  \n",
       "25%         0.000000  \n",
       "50%         0.000000  \n",
       "75%         0.000000  \n",
       "max         1.000000  \n",
       "\n",
       "[8 rows x 31 columns]"
      ]
     },
     "execution_count": 4,
     "metadata": {},
     "output_type": "execute_result"
    }
   ],
   "source": [
    "creditcard_df.describe()"
   ]
  },
  {
   "cell_type": "markdown",
   "metadata": {},
   "source": [
    "### 2.3.2  Abnormal Amount  data descriptive statistics"
   ]
  },
  {
   "cell_type": "code",
   "execution_count": 5,
   "metadata": {},
   "outputs": [
    {
     "name": "stdout",
     "output_type": "stream",
     "text": [
      "Abnormal amount data descriptive statistics Information\n"
     ]
    },
    {
     "data": {
      "text/plain": [
       "count     492.000000\n",
       "mean      122.211321\n",
       "std       256.683288\n",
       "min         0.000000\n",
       "25%         1.000000\n",
       "50%         9.250000\n",
       "75%       105.890000\n",
       "max      2125.870000\n",
       "Name: Amount, dtype: float64"
      ]
     },
     "execution_count": 5,
     "metadata": {},
     "output_type": "execute_result"
    }
   ],
   "source": [
    "# Abnormal transaction amount descriptive statistics calculation by using describe()\n",
    "\n",
    "abnormal_amount = creditcard_df[creditcard_df['Class'] == 1]\n",
    "print(\"Abnormal amount data descriptive statistics Information\")\n",
    "abnormal_amount.Amount.describe()"
   ]
  },
  {
   "cell_type": "markdown",
   "metadata": {},
   "source": [
    "### 2.3.3 Normal Amount data descriptive statistics"
   ]
  },
  {
   "cell_type": "code",
   "execution_count": 6,
   "metadata": {},
   "outputs": [
    {
     "name": "stdout",
     "output_type": "stream",
     "text": [
      "Normal amount data descriptive statistics Information\n"
     ]
    },
    {
     "data": {
      "text/plain": [
       "count    284315.000000\n",
       "mean         88.291022\n",
       "std         250.105092\n",
       "min           0.000000\n",
       "25%           5.650000\n",
       "50%          22.000000\n",
       "75%          77.050000\n",
       "max       25691.160000\n",
       "Name: Amount, dtype: float64"
      ]
     },
     "execution_count": 6,
     "metadata": {},
     "output_type": "execute_result"
    }
   ],
   "source": [
    "# Normal transaction amount descriptive statistics calculation by using describe()\n",
    "\n",
    "normal_amount = creditcard_df[creditcard_df['Class'] == 0]\n",
    "print(\"Normal amount data descriptive statistics Information\")\n",
    "normal_amount.Amount.describe()"
   ]
  },
  {
   "cell_type": "markdown",
   "metadata": {},
   "source": [
    "## Step 3. Data Exploration "
   ]
  },
  {
   "cell_type": "markdown",
   "metadata": {},
   "source": [
    "#### When visualisations and images are employed, understanding is frequently much improved. Problems with machine learning are the same. Exploratory data visualisation is the process of visualising various parts of the information to better understand the data."
   ]
  },
  {
   "cell_type": "markdown",
   "metadata": {},
   "source": [
    "### 3.1 Plotting histograms to understand the values of each feature."
   ]
  },
  {
   "cell_type": "code",
   "execution_count": 7,
   "metadata": {},
   "outputs": [
    {
     "data": {
      "image/png": "[encoded data removed]",
      "text/plain": [
       "<Figure size 2880x2880 with 31 Axes>"
      ]
     },
     "metadata": {
      "needs_background": "light"
     },
     "output_type": "display_data"
    }
   ],
   "source": [
    "# Define the function\n",
    "\n",
    "def generate_histogram(creditcard_df, attributes, rows, columns):\n",
    "    \n",
    "    cc_hist_fig=plt.figure(figsize=(40,40))\n",
    "    \n",
    "    for i, attribute in enumerate(attributes):\n",
    "        cc_hist_axis=cc_hist_fig.add_subplot(rows,columns,i+1)\n",
    "        creditcard_df[attribute].hist(bins=20,ax=cc_hist_axis)\n",
    "        cc_hist_axis.set_title(attribute +\" Histogram\")\n",
    "        cc_hist_axis.set_yscale('log')\n",
    "  \n",
    "    plt.show()\n",
    "    \n",
    "# Calling the function\n",
    "generate_histogram(creditcard_df,creditcard_df.columns,8,8)\n"
   ]
  },
  {
   "cell_type": "markdown",
   "metadata": {},
   "source": [
    "### 3.2 Checking the frequncy of frauds and visualize it by graphs"
   ]
  },
  {
   "cell_type": "code",
   "execution_count": 8,
   "metadata": {},
   "outputs": [
    {
     "data": {
      "image/png": "[encoded data removed]",
      "text/plain": [
       "<Figure size 432x288 with 1 Axes>"
      ]
     },
     "metadata": {
      "needs_background": "light"
     },
     "output_type": "display_data"
    }
   ],
   "source": [
    "# A bar plot representing the percentage of abnormal and normal transactions\n",
    "\n",
    "abnormal_bar = {'Class':['Normal', 'Abnormal'], 'fraction':[normal_t_percentage, abnormal_t_percentage]} \n",
    "abnormal_df = pd.DataFrame(abnormal_bar) \n",
    "sns.barplot(x='Class',y='fraction', data=abnormal_df, color='g')\n",
    "plt.title('Ratio of fraudulent vs non-fraudulent transcations \\n (Normal : 0 & Abnormal : 1)', fontsize=10)\n",
    "plt.show()\n"
   ]
  },
  {
   "cell_type": "markdown",
   "metadata": {},
   "source": [
    "#### The \"Time\" column will be changed to an Hour."
   ]
  },
  {
   "cell_type": "code",
   "execution_count": 9,
   "metadata": {},
   "outputs": [],
   "source": [
    "#Converted time in Hour\n",
    "\n",
    "creditcard_df[\"Hourly_Time\"] = creditcard_df[\"Time\"]/3600 "
   ]
  },
  {
   "cell_type": "markdown",
   "metadata": {},
   "source": [
    "### 3.3 Examine the distribution of the Time using \"normal\" and \"abnormal\" transactions."
   ]
  },
  {
   "cell_type": "code",
   "execution_count": 10,
   "metadata": {},
   "outputs": [
    {
     "data": {
      "image/png": "[encoded data removed]",
      "text/plain": [
       "<Figure size 720x360 with 1 Axes>"
      ]
     },
     "metadata": {
      "needs_background": "light"
     },
     "output_type": "display_data"
    }
   ],
   "source": [
    "# Plotting the abNormal transaction  dataframe\n",
    "\n",
    "data_abnormal_plot = creditcard_df[creditcard_df['Class'] == 1]\n",
    "plt.figure(figsize=(10,5))\n",
    "plt.hist(data_abnormal_plot['Hourly_Time'], label='abnormal', bins=30 , color='g')\n",
    "plt.title('Abnormal (1) Transaction distribution')\n",
    "plt.xlabel('Time(hrs)')\n",
    "plt.ylabel('Transaction')\n",
    " \n",
    "plt.show()\n"
   ]
  },
  {
   "cell_type": "code",
   "execution_count": 11,
   "metadata": {},
   "outputs": [
    {
     "data": {
      "image/png": "[encoded data removed]",
      "text/plain": [
       "<Figure size 720x360 with 1 Axes>"
      ]
     },
     "metadata": {
      "needs_background": "light"
     },
     "output_type": "display_data"
    }
   ],
   "source": [
    "# Plotting the Normal transaction dataframe\n",
    "\n",
    "data_normal_plot = creditcard_df[creditcard_df['Class'] == 0]\n",
    "plt.figure(figsize=(10,5))\n",
    "plt.hist(data_normal_plot['Hourly_Time'], label='normal', bins=30 , color='g')\n",
    "plt.title('Normal (0) Transaction Distribution')\n",
    "plt.xlabel('Time(hrs)')\n",
    "plt.ylabel('Transaction')\n",
    "\n",
    "plt.show()"
   ]
  },
  {
   "cell_type": "markdown",
   "metadata": {},
   "source": [
    "### 3.4 Examine the distribution of the Time using \"normal\" and \"abnormal\" transactions."
   ]
  },
  {
   "cell_type": "code",
   "execution_count": 12,
   "metadata": {},
   "outputs": [
    {
     "data": {
      "image/png": "[encoded data removed]",
      "text/plain": [
       "<Figure size 720x360 with 1 Axes>"
      ]
     },
     "metadata": {
      "needs_background": "light"
     },
     "output_type": "display_data"
    }
   ],
   "source": [
    "# Plotting the abnormal transaction distribution according to the \"Time\" \n",
    "\n",
    "data_abnormal_time = creditcard_df[creditcard_df['Class'] == 1]\n",
    "plt.figure(figsize=(10,5))\n",
    "plt.hist(data_abnormal_time['Amount'], label='abnormal', bins=30 , color='g')\n",
    "plt.title('Abnormal transaction distribution according to Time')\n",
    "plt.xlabel('Amount')\n",
    "plt.ylabel('Transaction')\n",
    "plt.show()\n"
   ]
  },
  {
   "cell_type": "code",
   "execution_count": 13,
   "metadata": {},
   "outputs": [
    {
     "data": {
      "image/png": "[encoded data removed]",
      "text/plain": [
       "<Figure size 720x360 with 1 Axes>"
      ]
     },
     "metadata": {
      "needs_background": "light"
     },
     "output_type": "display_data"
    }
   ],
   "source": [
    "# Plotting the normal transaction distribution according to the \"Time\"\n",
    "data_normal_time = creditcard_df[creditcard_df['Class'] == 0]\n",
    "plt.figure(figsize=(10,5))\n",
    "plt.hist(data_normal_time['Amount'], label='normal', bins=30 , color='g')\n",
    "plt.title('Normal transaction distribution according to Time')\n",
    "plt.xlabel('Amount')\n",
    "plt.ylabel('Transaction')\n",
    "plt.show()"
   ]
  },
  {
   "cell_type": "markdown",
   "metadata": {},
   "source": [
    "### Insight of result\n",
    "#### I have analyse in above exploration of Amount column that there is a large difference in values of Variable amount and other variable so I wull scale the amount column in follwing implementation. "
   ]
  },
  {
   "cell_type": "markdown",
   "metadata": {},
   "source": [
    "## Step 4 Preprocessing the Dataset\n",
    "#### Preprocessing the data is a crucial step in the analysis because it helps to get rid of duplicates and outliers. Additionally, scaling the columns on a broad basis is a widely accepted technique that promotes faster convergence and produces better outcomes.\n",
    "#### In following line of code I have Checking for null values in dataset\n",
    "### 4.1 Data Cleaning and handing Outliers\n",
    "### 4.1.1 Checking For null values or missing values"
   ]
  },
  {
   "cell_type": "code",
   "execution_count": 14,
   "metadata": {},
   "outputs": [
    {
     "data": {
      "text/plain": [
       "False"
      ]
     },
     "execution_count": 14,
     "metadata": {},
     "output_type": "execute_result"
    }
   ],
   "source": [
    "# Checking For null values using 'isnull()'\n",
    "\n",
    "creditcard_df.isnull().values.any()"
   ]
  },
  {
   "cell_type": "markdown",
   "metadata": {},
   "source": [
    "### Insight of Result\n",
    "####  I have observe that none of the columns have any missing data. As a result, there is no issue with null values across the dataset.\n",
    "### 4.1.2 Checking about the data repeatation"
   ]
  },
  {
   "cell_type": "code",
   "execution_count": 15,
   "metadata": {},
   "outputs": [
    {
     "name": "stdout",
     "output_type": "stream",
     "text": [
      "Total duplicated data in the dataset is :  1081\n"
     ]
    }
   ],
   "source": [
    "# Checking for the data duplicacy using 'duplicated()''\n",
    "\n",
    "duplicated_data=sum(creditcard_df.duplicated())\n",
    "print(\"Total duplicated data in the dataset is : \", duplicated_data)"
   ]
  },
  {
   "cell_type": "markdown",
   "metadata": {},
   "source": [
    "### Insight of Result \n",
    "#### The dataset has to be cleaned up because there are over 1081 duplicate rows. In order to eliminate the duplicates, use the following line of code:"
   ]
  },
  {
   "cell_type": "code",
   "execution_count": 16,
   "metadata": {},
   "outputs": [],
   "source": [
    "# Destroying  duplicate data by using the 'drop_duplicates()'\n",
    "\n",
    "creditcard_df.drop_duplicates(inplace=True)"
   ]
  },
  {
   "cell_type": "markdown",
   "metadata": {},
   "source": [
    "\n",
    "### 4.1.3 Checking the spread of ‘Time’ and ‘Amount’ for Outliers"
   ]
  },
  {
   "cell_type": "code",
   "execution_count": 17,
   "metadata": {},
   "outputs": [
    {
     "data": {
      "text/plain": [
       "Text(0.5, 1.0, 'Approx Amount Distribution')"
      ]
     },
     "execution_count": 17,
     "metadata": {},
     "output_type": "execute_result"
    },
    {
     "data": {
      "image/png": "[encoded data removed]",
      "text/plain": [
       "<Figure size 1296x288 with 2 Axes>"
      ]
     },
     "metadata": {
      "needs_background": "light"
     },
     "output_type": "display_data"
    }
   ],
   "source": [
    "# Plotting the \"Amount\" and \"Time\" using Box plot\"\n",
    "\n",
    "figure, ax = plt.subplots(1,2, figsize=(18,4))\n",
    "\n",
    "sns.boxplot(creditcard_df['Time'], ax=ax[0], color='g')\n",
    "ax[0].set_title(\"Approx Time Distribution\")\n",
    "\n",
    "sns.boxplot(creditcard_df['Amount'], ax=ax[1], color='g')\n",
    "ax[1].set_title(\"Approx Amount Distribution\")"
   ]
  },
  {
   "cell_type": "markdown",
   "metadata": {},
   "source": [
    "### Insight of result\n",
    "#### I can see from above result that there is a outliers in the 'Amount' so I have remove it using the IQR method that Outliers were eliminated using the Inter Quantile Range (IQR) approach, which is one of the most used methods for managing outliers\n",
    "### 4.1.4 Destroying Outliers"
   ]
  },
  {
   "cell_type": "code",
   "execution_count": 18,
   "metadata": {},
   "outputs": [
    {
     "data": {
      "image/png": "[encoded data removed]",
      "text/plain": [
       "<Figure size 432x288 with 1 Axes>"
      ]
     },
     "metadata": {
      "needs_background": "light"
     },
     "output_type": "display_data"
    }
   ],
   "source": [
    "# Define the function for destroying outliers\n",
    "\n",
    "def destroy_amount_outliers(creditcard_df, column_name):\n",
    "    \n",
    "    inter_quartile_range=1.5*(np.percentile(creditcard_df[column_name],75)- np.percentile(creditcard_df[column_name],25))\n",
    "    creditcard_df.drop(creditcard_df[creditcard_df[column_name]>(inter_quartile_range + np.percentile(creditcard_df[column_name],75))].index, inplace=True)\n",
    "    creditcard_df.drop(creditcard_df[creditcard_df[column_name]<(np.percentile(creditcard_df[column_name],25)-inter_quartile_range)].index, inplace=True)\n",
    "\n",
    "# Call the function    \n",
    "destroy_amount_outliers(creditcard_df,'Amount')\n",
    "\n",
    "# Plotting the Amount Column by Box Plot\n",
    "ax=sns.boxplot(creditcard_df['Amount'])\n",
    "ax.set_title(\"Box Plot of Amount column after destroying outliers\")\n",
    "\n",
    "plt.show()"
   ]
  },
  {
   "cell_type": "markdown",
   "metadata": {},
   "source": [
    "## 4.2 Scaling the feature amount\n",
    "####  To scale amount variable I have used robust scalar() "
   ]
  },
  {
   "cell_type": "code",
   "execution_count": 19,
   "metadata": {},
   "outputs": [
    {
     "data": {
      "text/html": [
       "<div>\n",
       "<style scoped>\n",
       "    .dataframe tbody tr th:only-of-type {\n",
       "        vertical-align: middle;\n",
       "    }\n",
       "\n",
       "    .dataframe tbody tr th {\n",
       "        vertical-align: top;\n",
       "    }\n",
       "\n",
       "    .dataframe thead th {\n",
       "        text-align: right;\n",
       "    }\n",
       "</style>\n",
       "<table border=\"1\" class=\"dataframe\">\n",
       "  <thead>\n",
       "    <tr style=\"text-align: right;\">\n",
       "      <th></th>\n",
       "      <th>Time</th>\n",
       "      <th>V1</th>\n",
       "      <th>V2</th>\n",
       "      <th>V3</th>\n",
       "      <th>V4</th>\n",
       "      <th>V5</th>\n",
       "      <th>V6</th>\n",
       "      <th>V7</th>\n",
       "      <th>V8</th>\n",
       "      <th>V9</th>\n",
       "      <th>...</th>\n",
       "      <th>V23</th>\n",
       "      <th>V24</th>\n",
       "      <th>V25</th>\n",
       "      <th>V26</th>\n",
       "      <th>V27</th>\n",
       "      <th>V28</th>\n",
       "      <th>Amount</th>\n",
       "      <th>Class</th>\n",
       "      <th>Hourly_Time</th>\n",
       "      <th>resize_amount</th>\n",
       "    </tr>\n",
       "  </thead>\n",
       "  <tbody>\n",
       "    <tr>\n",
       "      <th>0</th>\n",
       "      <td>0.0</td>\n",
       "      <td>-1.359807</td>\n",
       "      <td>-0.072781</td>\n",
       "      <td>2.536347</td>\n",
       "      <td>1.378155</td>\n",
       "      <td>-0.338321</td>\n",
       "      <td>0.462388</td>\n",
       "      <td>0.239599</td>\n",
       "      <td>0.098698</td>\n",
       "      <td>0.363787</td>\n",
       "      <td>...</td>\n",
       "      <td>-0.110474</td>\n",
       "      <td>0.066928</td>\n",
       "      <td>0.128539</td>\n",
       "      <td>-0.189115</td>\n",
       "      <td>0.133558</td>\n",
       "      <td>-0.021053</td>\n",
       "      <td>149.62</td>\n",
       "      <td>0</td>\n",
       "      <td>0.000000</td>\n",
       "      <td>2.935399</td>\n",
       "    </tr>\n",
       "    <tr>\n",
       "      <th>1</th>\n",
       "      <td>0.0</td>\n",
       "      <td>1.191857</td>\n",
       "      <td>0.266151</td>\n",
       "      <td>0.166480</td>\n",
       "      <td>0.448154</td>\n",
       "      <td>0.060018</td>\n",
       "      <td>-0.082361</td>\n",
       "      <td>-0.078803</td>\n",
       "      <td>0.085102</td>\n",
       "      <td>-0.255425</td>\n",
       "      <td>...</td>\n",
       "      <td>0.101288</td>\n",
       "      <td>-0.339846</td>\n",
       "      <td>0.167170</td>\n",
       "      <td>0.125895</td>\n",
       "      <td>-0.008983</td>\n",
       "      <td>0.014724</td>\n",
       "      <td>2.69</td>\n",
       "      <td>0</td>\n",
       "      <td>0.000000</td>\n",
       "      <td>-0.293122</td>\n",
       "    </tr>\n",
       "    <tr>\n",
       "      <th>3</th>\n",
       "      <td>1.0</td>\n",
       "      <td>-0.966272</td>\n",
       "      <td>-0.185226</td>\n",
       "      <td>1.792993</td>\n",
       "      <td>-0.863291</td>\n",
       "      <td>-0.010309</td>\n",
       "      <td>1.247203</td>\n",
       "      <td>0.237609</td>\n",
       "      <td>0.377436</td>\n",
       "      <td>-1.387024</td>\n",
       "      <td>...</td>\n",
       "      <td>-0.190321</td>\n",
       "      <td>-1.175575</td>\n",
       "      <td>0.647376</td>\n",
       "      <td>-0.221929</td>\n",
       "      <td>0.062723</td>\n",
       "      <td>0.061458</td>\n",
       "      <td>123.50</td>\n",
       "      <td>0</td>\n",
       "      <td>0.000278</td>\n",
       "      <td>2.361459</td>\n",
       "    </tr>\n",
       "    <tr>\n",
       "      <th>4</th>\n",
       "      <td>2.0</td>\n",
       "      <td>-1.158233</td>\n",
       "      <td>0.877737</td>\n",
       "      <td>1.548718</td>\n",
       "      <td>0.403034</td>\n",
       "      <td>-0.407193</td>\n",
       "      <td>0.095921</td>\n",
       "      <td>0.592941</td>\n",
       "      <td>-0.270533</td>\n",
       "      <td>0.817739</td>\n",
       "      <td>...</td>\n",
       "      <td>-0.137458</td>\n",
       "      <td>0.141267</td>\n",
       "      <td>-0.206010</td>\n",
       "      <td>0.502292</td>\n",
       "      <td>0.219422</td>\n",
       "      <td>0.215153</td>\n",
       "      <td>69.99</td>\n",
       "      <td>0</td>\n",
       "      <td>0.000556</td>\n",
       "      <td>1.185673</td>\n",
       "    </tr>\n",
       "    <tr>\n",
       "      <th>5</th>\n",
       "      <td>2.0</td>\n",
       "      <td>-0.425966</td>\n",
       "      <td>0.960523</td>\n",
       "      <td>1.141109</td>\n",
       "      <td>-0.168252</td>\n",
       "      <td>0.420987</td>\n",
       "      <td>-0.029728</td>\n",
       "      <td>0.476201</td>\n",
       "      <td>0.260314</td>\n",
       "      <td>-0.568671</td>\n",
       "      <td>...</td>\n",
       "      <td>-0.026398</td>\n",
       "      <td>-0.371427</td>\n",
       "      <td>-0.232794</td>\n",
       "      <td>0.105915</td>\n",
       "      <td>0.253844</td>\n",
       "      <td>0.081080</td>\n",
       "      <td>3.67</td>\n",
       "      <td>0</td>\n",
       "      <td>0.000556</td>\n",
       "      <td>-0.271589</td>\n",
       "    </tr>\n",
       "    <tr>\n",
       "      <th>284801</th>\n",
       "      <td>172785.0</td>\n",
       "      <td>0.120316</td>\n",
       "      <td>0.931005</td>\n",
       "      <td>-0.546012</td>\n",
       "      <td>-0.745097</td>\n",
       "      <td>1.130314</td>\n",
       "      <td>-0.235973</td>\n",
       "      <td>0.812722</td>\n",
       "      <td>0.115093</td>\n",
       "      <td>-0.204064</td>\n",
       "      <td>...</td>\n",
       "      <td>0.050343</td>\n",
       "      <td>0.102800</td>\n",
       "      <td>-0.435870</td>\n",
       "      <td>0.124079</td>\n",
       "      <td>0.217940</td>\n",
       "      <td>0.068803</td>\n",
       "      <td>2.69</td>\n",
       "      <td>0</td>\n",
       "      <td>47.995833</td>\n",
       "      <td>-0.293122</td>\n",
       "    </tr>\n",
       "    <tr>\n",
       "      <th>284802</th>\n",
       "      <td>172786.0</td>\n",
       "      <td>-11.881118</td>\n",
       "      <td>10.071785</td>\n",
       "      <td>-9.834783</td>\n",
       "      <td>-2.066656</td>\n",
       "      <td>-5.364473</td>\n",
       "      <td>-2.606837</td>\n",
       "      <td>-4.918215</td>\n",
       "      <td>7.305334</td>\n",
       "      <td>1.914428</td>\n",
       "      <td>...</td>\n",
       "      <td>1.014480</td>\n",
       "      <td>-0.509348</td>\n",
       "      <td>1.436807</td>\n",
       "      <td>0.250034</td>\n",
       "      <td>0.943651</td>\n",
       "      <td>0.823731</td>\n",
       "      <td>0.77</td>\n",
       "      <td>0</td>\n",
       "      <td>47.996111</td>\n",
       "      <td>-0.335311</td>\n",
       "    </tr>\n",
       "    <tr>\n",
       "      <th>284803</th>\n",
       "      <td>172787.0</td>\n",
       "      <td>-0.732789</td>\n",
       "      <td>-0.055080</td>\n",
       "      <td>2.035030</td>\n",
       "      <td>-0.738589</td>\n",
       "      <td>0.868229</td>\n",
       "      <td>1.058415</td>\n",
       "      <td>0.024330</td>\n",
       "      <td>0.294869</td>\n",
       "      <td>0.584800</td>\n",
       "      <td>...</td>\n",
       "      <td>0.012463</td>\n",
       "      <td>-1.016226</td>\n",
       "      <td>-0.606624</td>\n",
       "      <td>-0.395255</td>\n",
       "      <td>0.068472</td>\n",
       "      <td>-0.053527</td>\n",
       "      <td>24.79</td>\n",
       "      <td>0</td>\n",
       "      <td>47.996389</td>\n",
       "      <td>0.192485</td>\n",
       "    </tr>\n",
       "    <tr>\n",
       "      <th>284804</th>\n",
       "      <td>172788.0</td>\n",
       "      <td>1.919565</td>\n",
       "      <td>-0.301254</td>\n",
       "      <td>-3.249640</td>\n",
       "      <td>-0.557828</td>\n",
       "      <td>2.630515</td>\n",
       "      <td>3.031260</td>\n",
       "      <td>-0.296827</td>\n",
       "      <td>0.708417</td>\n",
       "      <td>0.432454</td>\n",
       "      <td>...</td>\n",
       "      <td>-0.037501</td>\n",
       "      <td>0.640134</td>\n",
       "      <td>0.265745</td>\n",
       "      <td>-0.087371</td>\n",
       "      <td>0.004455</td>\n",
       "      <td>-0.026561</td>\n",
       "      <td>67.88</td>\n",
       "      <td>0</td>\n",
       "      <td>47.996667</td>\n",
       "      <td>1.139310</td>\n",
       "    </tr>\n",
       "    <tr>\n",
       "      <th>284805</th>\n",
       "      <td>172788.0</td>\n",
       "      <td>-0.240440</td>\n",
       "      <td>0.530483</td>\n",
       "      <td>0.702510</td>\n",
       "      <td>0.689799</td>\n",
       "      <td>-0.377961</td>\n",
       "      <td>0.623708</td>\n",
       "      <td>-0.686180</td>\n",
       "      <td>0.679145</td>\n",
       "      <td>0.392087</td>\n",
       "      <td>...</td>\n",
       "      <td>-0.163298</td>\n",
       "      <td>0.123205</td>\n",
       "      <td>-0.569159</td>\n",
       "      <td>0.546668</td>\n",
       "      <td>0.108821</td>\n",
       "      <td>0.104533</td>\n",
       "      <td>10.00</td>\n",
       "      <td>0</td>\n",
       "      <td>47.996667</td>\n",
       "      <td>-0.132498</td>\n",
       "    </tr>\n",
       "  </tbody>\n",
       "</table>\n",
       "<p>10 rows × 33 columns</p>\n",
       "</div>"
      ],
      "text/plain": [
       "            Time         V1         V2        V3        V4        V5  \\\n",
       "0            0.0  -1.359807  -0.072781  2.536347  1.378155 -0.338321   \n",
       "1            0.0   1.191857   0.266151  0.166480  0.448154  0.060018   \n",
       "3            1.0  -0.966272  -0.185226  1.792993 -0.863291 -0.010309   \n",
       "4            2.0  -1.158233   0.877737  1.548718  0.403034 -0.407193   \n",
       "5            2.0  -0.425966   0.960523  1.141109 -0.168252  0.420987   \n",
       "284801  172785.0   0.120316   0.931005 -0.546012 -0.745097  1.130314   \n",
       "284802  172786.0 -11.881118  10.071785 -9.834783 -2.066656 -5.364473   \n",
       "284803  172787.0  -0.732789  -0.055080  2.035030 -0.738589  0.868229   \n",
       "284804  172788.0   1.919565  -0.301254 -3.249640 -0.557828  2.630515   \n",
       "284805  172788.0  -0.240440   0.530483  0.702510  0.689799 -0.377961   \n",
       "\n",
       "              V6        V7        V8        V9  ...       V23       V24  \\\n",
       "0       0.462388  0.239599  0.098698  0.363787  ... -0.110474  0.066928   \n",
       "1      -0.082361 -0.078803  0.085102 -0.255425  ...  0.101288 -0.339846   \n",
       "3       1.247203  0.237609  0.377436 -1.387024  ... -0.190321 -1.175575   \n",
       "4       0.095921  0.592941 -0.270533  0.817739  ... -0.137458  0.141267   \n",
       "5      -0.029728  0.476201  0.260314 -0.568671  ... -0.026398 -0.371427   \n",
       "284801 -0.235973  0.812722  0.115093 -0.204064  ...  0.050343  0.102800   \n",
       "284802 -2.606837 -4.918215  7.305334  1.914428  ...  1.014480 -0.509348   \n",
       "284803  1.058415  0.024330  0.294869  0.584800  ...  0.012463 -1.016226   \n",
       "284804  3.031260 -0.296827  0.708417  0.432454  ... -0.037501  0.640134   \n",
       "284805  0.623708 -0.686180  0.679145  0.392087  ... -0.163298  0.123205   \n",
       "\n",
       "             V25       V26       V27       V28  Amount  Class  Hourly_Time  \\\n",
       "0       0.128539 -0.189115  0.133558 -0.021053  149.62      0     0.000000   \n",
       "1       0.167170  0.125895 -0.008983  0.014724    2.69      0     0.000000   \n",
       "3       0.647376 -0.221929  0.062723  0.061458  123.50      0     0.000278   \n",
       "4      -0.206010  0.502292  0.219422  0.215153   69.99      0     0.000556   \n",
       "5      -0.232794  0.105915  0.253844  0.081080    3.67      0     0.000556   \n",
       "284801 -0.435870  0.124079  0.217940  0.068803    2.69      0    47.995833   \n",
       "284802  1.436807  0.250034  0.943651  0.823731    0.77      0    47.996111   \n",
       "284803 -0.606624 -0.395255  0.068472 -0.053527   24.79      0    47.996389   \n",
       "284804  0.265745 -0.087371  0.004455 -0.026561   67.88      0    47.996667   \n",
       "284805 -0.569159  0.546668  0.108821  0.104533   10.00      0    47.996667   \n",
       "\n",
       "        resize_amount  \n",
       "0            2.935399  \n",
       "1           -0.293122  \n",
       "3            2.361459  \n",
       "4            1.185673  \n",
       "5           -0.271589  \n",
       "284801      -0.293122  \n",
       "284802      -0.335311  \n",
       "284803       0.192485  \n",
       "284804       1.139310  \n",
       "284805      -0.132498  \n",
       "\n",
       "[10 rows x 33 columns]"
      ]
     },
     "execution_count": 19,
     "metadata": {},
     "output_type": "execute_result"
    }
   ],
   "source": [
    "# Doing scaling of amount column and create new column named  \"resize_amount\"\n",
    "\n",
    "creditcard_df['resize_amount']=RobustScaler().fit_transform(creditcard_df['Amount'].values.reshape(-1,1))\n",
    "creditcard_df.head().append(creditcard_df.tail())"
   ]
  },
  {
   "cell_type": "markdown",
   "metadata": {},
   "source": [
    "## 4.3 Feature Correlation\n",
    "#### It is also a common practice to observe the dependency of variables on each other by studying their correlation. A very interesting and meaningful visualization called Heatmap can be plotted that gives this very information. It can be plotted by using code given below:\n"
   ]
  },
  {
   "cell_type": "code",
   "execution_count": 20,
   "metadata": {},
   "outputs": [
    {
     "data": {
      "image/png": "[encoded data removed]",
      "text/plain": [
       "<Figure size 1800x720 with 2 Axes>"
      ]
     },
     "metadata": {
      "needs_background": "light"
     },
     "output_type": "display_data"
    }
   ],
   "source": [
    "# Plotting the relationship of each attributes by the use of heatmap\n",
    "\n",
    "f,ax = plt.subplots(1, 1, figsize=(25, 10))\n",
    "\n",
    "sns.heatmap(creditcard_df.corr(),annot=True )\n",
    "ax.set_title('Attributes correlation Heatmap')\n",
    "\n",
    "plt.show()"
   ]
  },
  {
   "cell_type": "markdown",
   "metadata": {},
   "source": [
    "### Insight of result\n",
    "#### I've noticed that there isn't a clear trend in the number of anomalous or regular transactions over time so I have remove Time column. Because I had scaled a feature on the Amount column and had created a new column called \"scaled amount\" in the following code, I had to remove \"Amount\" column as a result.\n",
    "#### Destroying  the 'Time' and 'Amount' Column"
   ]
  },
  {
   "cell_type": "code",
   "execution_count": 21,
   "metadata": {},
   "outputs": [],
   "source": [
    "# Destroying the \"Time\" and \"Amount\" columns\n",
    "\n",
    "creditcard_df.drop('Time', axis=1, inplace=True)\n",
    "creditcard_df.drop('Amount', axis=1, inplace=True)\n"
   ]
  },
  {
   "cell_type": "markdown",
   "metadata": {},
   "source": [
    "## 4.4 Train data - Test data Split\n",
    "#### A model validation process called train-test-split indicates how well your model works with fresh data."
   ]
  },
  {
   "cell_type": "code",
   "execution_count": 22,
   "metadata": {},
   "outputs": [
    {
     "name": "stdout",
     "output_type": "stream",
     "text": [
      "The size for the train data of the feature variable X Is   :  (201632, 30)\n",
      "The size for the train data of the target variable Y Is :  (201632,)\n",
      "The size for the test data of the feature variable X Is :  (50409, 30)\n",
      "The size for the test data of the target variable Y Is :  (50409,)\n"
     ]
    }
   ],
   "source": [
    "# Intializing feature variables into X\n",
    "feature_X = creditcard_df.drop(['Class'], axis=1)\n",
    "\n",
    "# Intializing target variables to y\n",
    "target_Y = creditcard_df['Class']\n",
    "\n",
    "# Split the data into train and test set 80:20\n",
    "X_train_data, X_test_data, Y_train_data, Y_test_data = train_test_split(feature_X, target_Y, test_size=0.20, random_state=42)\n",
    "\n",
    "print(\"The size for the train data of the feature variable X Is   : \",X_train_data.shape)\n",
    "print(\"The size for the train data of the target variable Y Is : \",Y_train_data.shape)\n",
    "print(\"The size for the test data of the feature variable X Is : \",X_test_data.shape)\n",
    "print(\"The size for the test data of the target variable Y Is : \",Y_test_data.shape)\n"
   ]
  },
  {
   "cell_type": "markdown",
   "metadata": {},
   "source": [
    "### After splitting the dataset, we have 201632 observations in the training subset and 50409 in the test subset."
   ]
  },
  {
   "cell_type": "code",
   "execution_count": null,
   "metadata": {},
   "outputs": [],
   "source": [
    "# Detailing for the  feature variable X's columns using column attribute\n",
    "\n",
    "X_train_columns = X_train_data.columns\n",
    "X_train_columns\n",
    "\n"
   ]
  },
  {
   "cell_type": "markdown",
   "metadata": {},
   "source": [
    "## Step 5 ModelBuilding"
   ]
  },
  {
   "cell_type": "markdown",
   "metadata": {},
   "source": [
    "### 5.1 Dataframe for performance evaluation metrics "
   ]
  },
  {
   "cell_type": "code",
   "execution_count": null,
   "metadata": {},
   "outputs": [],
   "source": [
    "# Creating the dataframe for storing the results of imbalanced dataset  performance metrics of train data and test data\n",
    " \n",
    "imb_train_results = pd.DataFrame(columns=['Model Name', 'Accuracy', 'F1-score', 'ROC'])\n",
    "\n",
    "imb_test_results = pd.DataFrame(columns=['Model Name', 'Accuracy', 'F1-score', 'ROC'])\n",
    "\n"
   ]
  },
  {
   "cell_type": "markdown",
   "metadata": {},
   "source": [
    "### 5.2 Creating ROC Curve function"
   ]
  },
  {
   "cell_type": "code",
   "execution_count": null,
   "metadata": {},
   "outputs": [],
   "source": [
    "\n",
    "# Define the function for later use \n",
    "def draw_roc( actual_data, prob_data ):\n",
    "    fpr, tpr, thresholds = metrics.roc_curve( actual_data, prob_data, drop_intermediate = False )\n",
    "    auc_score = metrics.roc_auc_score( actual_data, prob_data )\n",
    "    plt.figure(figsize=(7,7))\n",
    "    plt.plot( fpr, tpr, label='AUC curve (area = %0.2f)' % auc_score )\n",
    "    plt.plot([0, 1], [0, 1], 'k--')\n",
    "    plt.xlim([0.0, 1.0])\n",
    "    plt.ylim([0.0, 1.05])\n",
    "    plt.xlabel('False Positive Rate')\n",
    "    plt.ylabel('True Positive Rate')\n",
    "    plt.title('Receiver operating characteristic')\n",
    "    plt.legend(loc=\"lower right\")\n",
    "    plt.show()\n",
    " \n",
    "    \n",
    "    return None"
   ]
  },
  {
   "cell_type": "markdown",
   "metadata": {},
   "source": [
    "### 5.3 Creating functions for imbalance dataset"
   ]
  },
  {
   "cell_type": "markdown",
   "metadata": {},
   "source": [
    "### 5.3.1 Define the train results function for imbalanced dataset"
   ]
  },
  {
   "cell_type": "code",
   "execution_count": null,
   "metadata": {},
   "outputs": [],
   "source": [
    "# Define the function for train_results \n",
    "\n",
    "def imb_train_modeling(model_name,imbalance_model):\n",
    "    \n",
    "\n",
    "    # Estimation of the train set data\n",
    "    Y_train_pred_data = imbalance_model.predict(X_train_data)\n",
    "    \n",
    "    # Generating Confusion matrix\n",
    "    print(\"**********Confusion Matrix**********\")\n",
    "    confusion_train = metrics.confusion_matrix(Y_train_data, Y_train_pred_data)\n",
    "    print(confusion_train)\n",
    "    \n",
    "    # Displaying Confusion matrix\n",
    "    confusion_matrix_train = metrics.ConfusionMatrixDisplay(confusion_matrix=confusion_train)\n",
    "    confusion_matrix_train.plot(cmap=plt.cm.Blues)\n",
    "    plt.show()\n",
    "          \n",
    "          \n",
    "    # Generating Classification report for the train data    \n",
    "    print(\"**********classification_report**********\")\n",
    "    TP = confusion_train[1,1] \n",
    "    TN = confusion_train[0,0] \n",
    "    FP = confusion_train[0,1] \n",
    "    FN = confusion_train[1,0] \n",
    "\n",
    "    # Accuracy\n",
    "    print(\"Accuracy:-\",metrics.accuracy_score(Y_train_data, Y_train_pred_data))\n",
    "\n",
    "    # Sensitivity\n",
    "    print(\"Sensitivity:-\",TP / float(TP+FN))\n",
    "\n",
    "    # Specificity\n",
    "    print(\"Specificity:-\", TN / float(TN+FP))\n",
    "\n",
    "    # F1 score\n",
    "    print(\"F1-Score:-\", f1_score(Y_train_data, Y_train_pred_data))\n",
    "\n",
    "    # classification_report\n",
    "    print(classification_report(Y_train_data, Y_train_pred_data))\n",
    "    \n",
    "    \n",
    "    \n",
    "    \n",
    "    \n",
    "    # Predicted probability\n",
    "    Y_train_pred_prob = imbalance_model.predict_proba(X_train_data)[:,1]\n",
    "   \n",
    "\n",
    "     # roc_auc\n",
    "    print(\"**********ROC**********\")\n",
    "    roc_auc = metrics.roc_auc_score(Y_train_data, Y_train_pred_prob)\n",
    "    \n",
    "    # Plotting the ROC curve\n",
    "    draw_roc(Y_train_data, Y_train_pred_prob)\n",
    "    \n",
    "   \n",
    "    \n",
    "    \n",
    "    # Performance Evaluation metrics score in final result store\n",
    "    imb_train_results.loc[len(imb_train_results)] = [model_name, metrics.accuracy_score(Y_train_data, Y_train_pred_data), f1_score(Y_train_data, Y_train_pred_data), roc_auc]\n",
    "\n",
    "    \n",
    "    return None"
   ]
  },
  {
   "cell_type": "markdown",
   "metadata": {},
   "source": [
    "### 5.3.2 Define the test results function for imbalanced dataset"
   ]
  },
  {
   "cell_type": "code",
   "execution_count": null,
   "metadata": {},
   "outputs": [],
   "source": [
    "# Define the function for train_results \n",
    "\n",
    "def imb_test_modeling(model_name,imbalance_model):\n",
    "    \n",
    "\n",
    "    \n",
    "    # Estimation on the train set data\n",
    "    Y_test_pred_data = imbalance_model.predict(X_test_data)\n",
    "    \n",
    "    # Generatinng Confusion matrix\n",
    "    print(\"Confusion Matrix\")\n",
    "\n",
    "    confusion_test = metrics.confusion_matrix(Y_test_data, Y_test_pred_data)\n",
    "    print(confusion_test)\n",
    "    \n",
    "    # Displaying Confusion matrix\n",
    "    confusion_matrix_test = metrics.ConfusionMatrixDisplay(confusion_matrix=confusion_test)\n",
    "    confusion_matrix_test.plot(cmap=plt.cm.Blues)\n",
    "    plt.show()\n",
    "    \n",
    "    print(\"Classification_report\")\n",
    "    TP = confusion_test[1,1] \n",
    "    TN = confusion_test[0,0] \n",
    "    FP = confusion_test[0,1] \n",
    "    FN = confusion_test[1,0] \n",
    "\n",
    "    # Accuracy\n",
    "    print(\"Accuracy:-\",metrics.accuracy_score(Y_test_data, Y_test_pred_data))\n",
    "\n",
    "    # Sensitivity\n",
    "    print(\"Sensitivity:-\",TP / float(TP+FN))\n",
    "\n",
    "    # Specificity\n",
    "    print(\"Specificity:-\", TN / float(TN+FP))\n",
    "\n",
    "    # F1 score\n",
    "    print(\"F1-Score:-\", f1_score(Y_test_data, Y_test_pred_data))\n",
    "\n",
    "    # classification_report\n",
    "    print(classification_report(Y_test_data, Y_test_pred_data))\n",
    "    \n",
    "    # Predicted probability\n",
    "    Y_test_pred_prob = imbalance_model.predict_proba(X_test_data)[:,1]\n",
    "    \n",
    "    # roc_auc\n",
    "    print(\"ROC\")\n",
    "    roc_auc = metrics.roc_auc_score(Y_test_data, Y_test_pred_prob)\n",
    "   \n",
    "    \n",
    "    \n",
    "    # Plotting the ROC curve\n",
    "    draw_roc(Y_test_data, Y_test_pred_prob)\n",
    "    \n",
    "    \n",
    "    # Performance Evaluation metrics score in final result store\n",
    "    imb_test_results.loc[len(imb_test_results)] = [model_name, metrics.accuracy_score(Y_test_data, Y_test_pred_data), f1_score(Y_test_data, Y_test_pred_data), roc_auc]\n",
    "\n",
    "    print(\"The Roc_auc score after Cross validation is : \",roc_auc)\n",
    "        \n",
    "    return None"
   ]
  },
  {
   "cell_type": "markdown",
   "metadata": {},
   "source": [
    "### 5.3.3 Creating stratifield for Cross validation"
   ]
  },
  {
   "cell_type": "code",
   "execution_count": null,
   "metadata": {},
   "outputs": [],
   "source": [
    "# Define the number of folds for cross validation\n",
    "folds_number = 3 \n",
    "\n",
    "# Define the cross-validation\n",
    "sk_fold = StratifiedKFold(n_splits=folds_number, shuffle=True, random_state=42)\n"
   ]
  },
  {
   "cell_type": "markdown",
   "metadata": {},
   "source": [
    "### 5.4 Model building with Imbalanced Dataset\n",
    "### 5.4.1 Logistic Regression"
   ]
  },
  {
   "cell_type": "markdown",
   "metadata": {},
   "source": [
    "#### Here I have used a GridSearchCV which is a method for looking through the grid of parameters' appropriate parameter estimates from the given set."
   ]
  },
  {
   "cell_type": "code",
   "execution_count": null,
   "metadata": {},
   "outputs": [],
   "source": [
    "# Identify the hyperparamaters\n",
    "parameters = {\"C\": [0.001,0.01, 0.1, 1, 10, 100, 1000]}\n",
    "\n",
    "\n",
    "lr_imb_model_cv = GridSearchCV(estimator=LogisticRegression(),\n",
    "                        param_grid = parameters, \n",
    "                        scoring= 'roc_auc', \n",
    "                        cv = sk_fold, \n",
    "                        verbose = 3,\n",
    "                        return_train_score=True,\n",
    "                       ) \n",
    "# Fit the logistic regression model\n",
    "lr_imb_model_cv.fit(X_train_data, Y_train_data)\n",
    "\n"
   ]
  },
  {
   "cell_type": "code",
   "execution_count": null,
   "metadata": {},
   "outputs": [],
   "source": [
    "\n",
    "# results of grid search CV\n",
    "lr_imb_cv_results = pd.DataFrame(lr_imb_model_cv.cv_results_)\n",
    "lr_imb_cv_results\n"
   ]
  },
  {
   "cell_type": "code",
   "execution_count": null,
   "metadata": {},
   "outputs": [],
   "source": [
    "# C vs train and validation scores plotted\n",
    "\n",
    "plt.figure(figsize=(7,7))\n",
    "plt.plot(lr_imb_cv_results['param_C'], lr_imb_cv_results['mean_test_score'])\n",
    "plt.plot(lr_imb_cv_results['param_C'], lr_imb_cv_results['mean_train_score'])\n",
    "plt.xlabel('C')\n",
    "plt.ylabel('roc_auc')\n",
    "plt.legend(['test_data result', 'train_data result'], loc='upper right')\n",
    "plt.xscale('log')\n"
   ]
  },
  {
   "cell_type": "code",
   "execution_count": null,
   "metadata": {},
   "outputs": [],
   "source": [
    "# Highest score with a C\n",
    "\n",
    "lr_imb_best_score = lr_imb_model_cv.best_score_\n",
    "lr_imb_best_C = lr_imb_model_cv.best_params_['C']\n",
    "\n",
    "print(\" The roc auc test's maximum score is {0} at C = {1}\".format(lr_imb_best_score, lr_imb_best_C))"
   ]
  },
  {
   "cell_type": "markdown",
   "metadata": {},
   "source": [
    "### Logistic regression with optimum solution value of c which is 0.001"
   ]
  },
  {
   "cell_type": "code",
   "execution_count": null,
   "metadata": {},
   "outputs": [],
   "source": [
    "# Using the best C to instantiate the model.\n",
    "logistic_imbalance = LogisticRegression(C=0.001)\n",
    "\n",
    "# Fitting the model on the train set data\n",
    "logistic_imbalance_model = logistic_imbalance.fit(X_train_data, Y_train_data)\n"
   ]
  },
  {
   "cell_type": "markdown",
   "metadata": {},
   "source": [
    "### 5.4.1.1 Call the train_result function for diplaying result"
   ]
  },
  {
   "cell_type": "code",
   "execution_count": null,
   "metadata": {},
   "outputs": [],
   "source": [
    "imb_train_modeling(\"Logistic Regression\", logistic_imbalance_model)"
   ]
  },
  {
   "cell_type": "markdown",
   "metadata": {},
   "source": [
    "### 5.4.1.1 Call the test_result function for diplaying result"
   ]
  },
  {
   "cell_type": "code",
   "execution_count": null,
   "metadata": {},
   "outputs": [],
   "source": [
    "imb_test_modeling(\"Logistic Regression\", logistic_imbalance_model)\n"
   ]
  },
  {
   "cell_type": "markdown",
   "metadata": {},
   "source": [
    "### 5.4.2 Decision Tree"
   ]
  },
  {
   "cell_type": "code",
   "execution_count": null,
   "metadata": {},
   "outputs": [],
   "source": [
    "#The parameter grid's creation\n",
    "parameter_grid = {\n",
    "    'max_depth': range(5, 15, 5),\n",
    "    'min_samples_leaf': range(50, 150, 50),\n",
    "    'min_samples_split': range(50, 150, 50),\n",
    "}\n",
    "\n",
    "#Construct the grid search model \n",
    "d_tree_imb_model_cv = GridSearchCV(estimator = DecisionTreeClassifier(), \n",
    "                           param_grid = parameter_grid, \n",
    "                           scoring= 'roc_auc',\n",
    "                           cv = sk_fold, \n",
    "                           verbose = 3)\n",
    "# Fitting  the grid search for the data\n",
    "d_tree_imb_model_cv.fit(X_train_data,Y_train_data)"
   ]
  },
  {
   "cell_type": "code",
   "execution_count": null,
   "metadata": {},
   "outputs": [],
   "source": [
    "# cross validation results for decision tree\n",
    "d_tree_imb_cv_results = pd.DataFrame(d_tree_imb_model_cv.cv_results_)\n",
    "d_tree_imb_cv_results"
   ]
  },
  {
   "cell_type": "code",
   "execution_count": null,
   "metadata": {},
   "outputs": [],
   "source": [
    "# The best sensitivity score and hyperparameters are printed\n",
    "print(\"The Best roc_auc score after gridsearch is  : \", d_tree_imb_model_cv.best_score_)\n",
    "print(d_tree_imb_model_cv.best_estimator_)"
   ]
  },
  {
   "cell_type": "code",
   "execution_count": null,
   "metadata": {},
   "outputs": [],
   "source": [
    "# hyperparameter-optimal model\n",
    "dtree_imb_model = DecisionTreeClassifier(criterion = \"gini\", \n",
    "                                  random_state = 10,\n",
    "                                  max_depth=5, \n",
    "                                  min_samples_leaf=50,\n",
    "                                  min_samples_split=50)\n",
    "\n",
    "dtree_imb_model.fit(X_train_data, Y_train_data)"
   ]
  },
  {
   "cell_type": "markdown",
   "metadata": {},
   "source": [
    "### 5.4.2.1 Call the train_result function for displaying result of predection on train data"
   ]
  },
  {
   "cell_type": "code",
   "execution_count": null,
   "metadata": {},
   "outputs": [],
   "source": [
    "imb_train_modeling(\"Decision Tree\", dtree_imb_model)"
   ]
  },
  {
   "cell_type": "markdown",
   "metadata": {},
   "source": [
    "### 5.4.2.2 Call the test_result function for displaying result of prediction of test data"
   ]
  },
  {
   "cell_type": "code",
   "execution_count": null,
   "metadata": {},
   "outputs": [],
   "source": [
    "imb_test_modeling(\"Decision Tree\",dtree_imb_model)"
   ]
  },
  {
   "cell_type": "markdown",
   "metadata": {},
   "source": [
    "### 5.4.3 XGBoost "
   ]
  },
  {
   "cell_type": "code",
   "execution_count": null,
   "metadata": {},
   "outputs": [],
   "source": [
    "# Establish the hyperparameter range\n",
    "parameter_grid = {'learning_rate': [0.4, 0.8], \n",
    "             'subsample': [0.3, 0.6, 0.9]}          \n",
    "\n",
    "\n",
    "# Emphasise the model\n",
    "xgb_imb_model = XGBClassifier(max_depth=3, n_estimators=300)\n",
    "\n",
    "# configure GridSearchCV ()\n",
    "xgb_imb_model_cv = GridSearchCV(estimator = xgb_imb_model, \n",
    "                        param_grid = parameter_grid, \n",
    "                        scoring= 'roc_auc', \n",
    "                        cv = sk_fold, \n",
    "                        verbose = 3,\n",
    "                        return_train_score=True)      \n",
    "\n",
    "# fitting the model\n",
    "xgb_imb_model_cv.fit(X_train_data, Y_train_data)       \n"
   ]
  },
  {
   "cell_type": "code",
   "execution_count": null,
   "metadata": {},
   "outputs": [],
   "source": [
    "# Cross validation results for XGBoost model\n",
    "xgb_imb_cv_results = pd.DataFrame(xgb_imb_model_cv.cv_results_)\n",
    "xgb_imb_cv_results"
   ]
  },
  {
   "cell_type": "code",
   "execution_count": null,
   "metadata": {},
   "outputs": [],
   "source": [
    "# Define the plot size \n",
    "plt.figure(figsize=(20,8))\n",
    "\n",
    "parameter_grid = {'learning_rates': [0.4, 0.8], \n",
    "             'subsamples': [0.3, 0.6, 0.9]} \n",
    "\n",
    "\n",
    "for i, xgb_imb_subsample in enumerate(parameter_grid['subsamples']):\n",
    "    \n",
    "\n",
    "    # plotting the subplot \n",
    "    plt.subplot(1,len(parameter_grid['subsamples']), i+1)\n",
    "    creditcard_df = xgb_imb_cv_results[xgb_imb_cv_results['param_subsample']==xgb_imb_subsample]\n",
    "\n",
    "    plt.plot(creditcard_df[\"param_learning_rate\"], creditcard_df[\"mean_test_score\"])\n",
    "    plt.plot(creditcard_df[\"param_learning_rate\"], creditcard_df[\"mean_train_score\"])\n",
    "    plt.xlabel('Learning_rate of XGBoost')\n",
    "    plt.ylabel('AUC Of XGBoost')\n",
    "    plt.title(\"subsamples={0}\".format(xgb_imb_subsample))\n",
    "    plt.ylim([0.60, 1])\n",
    "    plt.legend(['test data score', 'train data score'], loc='upper right')\n",
    "    plt.xscale('log')"
   ]
  },
  {
   "cell_type": "code",
   "execution_count": null,
   "metadata": {},
   "outputs": [],
   "source": [
    "xgb_imb_model_cv.best_params_"
   ]
  },
  {
   "cell_type": "code",
   "execution_count": null,
   "metadata": {},
   "outputs": [],
   "source": [
    "# specified hyperparameters\n",
    "parameters = {'learning_rate': 0.4,\n",
    "          'max_depth': 3, \n",
    "          'n_estimators':300,\n",
    "          'subsample':0.6,\n",
    "         'objective':'binary:logistic'}\n",
    "\n",
    "# fitting  the model on training data\n",
    "xgb_imb_model = XGBClassifier(params = parameters)\n",
    "xgb_imb_model.fit(X_train_data, Y_train_data)"
   ]
  },
  {
   "cell_type": "markdown",
   "metadata": {},
   "source": [
    "### 5.4.3.1 Call the train_result function for diplaying result of prediction on train data"
   ]
  },
  {
   "cell_type": "code",
   "execution_count": null,
   "metadata": {},
   "outputs": [],
   "source": [
    "imb_train_modeling(\"XGBoost\", xgb_imb_model)"
   ]
  },
  {
   "cell_type": "markdown",
   "metadata": {},
   "source": [
    "### 5.4.3.2 Call the test_result function for diplaying result of prediciotn of test data"
   ]
  },
  {
   "cell_type": "code",
   "execution_count": null,
   "metadata": {},
   "outputs": [],
   "source": [
    "imb_test_modeling(\"XGBoost\", xgb_imb_model)"
   ]
  },
  {
   "cell_type": "code",
   "execution_count": null,
   "metadata": {},
   "outputs": [],
   "source": [
    "imb_train_results.sort_values(by='ROC', ascending=False)\n"
   ]
  },
  {
   "cell_type": "code",
   "execution_count": null,
   "metadata": {},
   "outputs": [],
   "source": [
    "\n",
    "imb_test_results.sort_values(by='ROC', ascending=False)\n"
   ]
  },
  {
   "cell_type": "code",
   "execution_count": null,
   "metadata": {},
   "outputs": [],
   "source": [
    "\n",
    "scores_df = pd.DataFrame(imb_test_results)\n",
    "scores_df.plot(x='Model Name',kind='bar',figsize=(8, 8))\n",
    "\n"
   ]
  },
  {
   "cell_type": "markdown",
   "metadata": {},
   "source": [
    "## 5.5 UnderSampling"
   ]
  },
  {
   "cell_type": "code",
   "execution_count": null,
   "metadata": {},
   "outputs": [],
   "source": [
    "# Fitting the feature and target variable \n",
    "ru_sampling = RandomUnderSampler(random_state=30)\n",
    "X_train_us, Y_train_us = ru_sampling.fit_resample(X_train_data, Y_train_data)\n",
    "\n",
    "\n",
    "print('Imbalanced dataset shape Is :', Counter(Y_train_data))\n",
    "print('Undersampling dataset shape Is: ', Counter(Y_train_us))\n",
    "\n",
    "\n",
    "\n",
    "undersample_df = pd.DataFrame(Y_train_us) \n",
    "sns.countplot(x='Class', data=undersample_df, color='g')\n",
    "plt.title('Ratio of fraudulent vs non-fraudulent transcations with Undersampling \\n (Normal : 0 & Abnormal : 1)', fontsize=10)\n",
    "plt.show()\n"
   ]
  },
  {
   "cell_type": "code",
   "execution_count": null,
   "metadata": {},
   "outputs": [],
   "source": [
    "# Creating the dataframe for storing the results of undersampled dataset performance metrics of train data and test data\n",
    "rus_train_results= pd.DataFrame(columns=['Model Name', 'Accuracy', 'F1-score', 'ROC'])\n",
    "rus_test_results=pd.DataFrame(columns=['Model Name','Accuracy','F1-score','ROC'])"
   ]
  },
  {
   "cell_type": "markdown",
   "metadata": {},
   "source": [
    "### 5.5.1 Define the train results function for undersampling dataset"
   ]
  },
  {
   "cell_type": "code",
   "execution_count": null,
   "metadata": {},
   "outputs": [],
   "source": [
    "# Define the function for train_results \n",
    "def rus_train_modeling(model_name,undersample_model):\n",
    "    \n",
    "    \n",
    "    # Estimation of the train set data\n",
    "    Y_train_us_pred_data = undersample_model.predict(X_train_us)\n",
    "    \n",
    "    # Generating Confusion matrix\n",
    "    print(\"**********Confusion Matrix**********\")\n",
    "    confusion_train_us = metrics.confusion_matrix(Y_train_us, Y_train_us_pred_data)\n",
    "    print(confusion_train_us)\n",
    "    \n",
    "    # Displaying Confusion matrix\n",
    "    cm_train_us = metrics.ConfusionMatrixDisplay(confusion_matrix=confusion_train_us )\n",
    "    cm_train_us.plot(cmap=plt.cm.Blues)\n",
    "    plt.show()\n",
    "    \n",
    "    print(\"**********Classification_report**********\")\n",
    "    TP = confusion_train_us[1,1] \n",
    "    TN = confusion_train_us[0,0] \n",
    "    FP = confusion_train_us[0,1] \n",
    "    FN = confusion_train_us[1,0] \n",
    "\n",
    "    # Accuracy\n",
    "    print(\"Accuracy:-\",metrics.accuracy_score(Y_train_us, Y_train_us_pred_data))\n",
    "\n",
    "    # Sensitivity\n",
    "    print(\"Sensitivity:-\",TP / float(TP+FN))\n",
    "\n",
    "    # Specificity\n",
    "    print(\"Specificity:-\", TN / float(TN+FP))\n",
    "\n",
    "    # F1 score\n",
    "    print(\"F1-Score:-\", f1_score(Y_train_us, Y_train_us_pred_data))\n",
    "\n",
    "    # classification_report\n",
    "    print(classification_report(Y_train_us, Y_train_us_pred_data))\n",
    "    \n",
    "    # Predicted probability\n",
    "    Y_train_pred_us_prob = undersample_model.predict_proba(X_train_us)[:,1]\n",
    "    \n",
    "     # roc_auc\n",
    "    print(\"------------------ ROC --------------------\")\n",
    "    roc_auc = metrics.roc_auc_score(Y_train_us, Y_train_pred_us_prob)\n",
    "    \n",
    "    # Plotting the ROC curve\n",
    "    draw_roc(Y_train_us, Y_train_pred_us_prob)\n",
    "    \n",
    "    \n",
    "    # Performance Evaluation metrics score in final result store for train data\n",
    "    rus_train_results.loc[len(rus_train_results)] = [model_name, metrics.accuracy_score(Y_train_us, Y_train_us_pred_data), f1_score(Y_train_us, Y_train_us_pred_data), roc_auc]\n",
    "\n",
    "    return None"
   ]
  },
  {
   "cell_type": "markdown",
   "metadata": {},
   "source": [
    "### 5.5.1 Define the test results function for undersampling dataset"
   ]
  },
  {
   "cell_type": "code",
   "execution_count": null,
   "metadata": {},
   "outputs": [],
   "source": [
    "# Define the function for test_results \n",
    "def rus_test_modeling(model_name,undersample_model):\n",
    "    \n",
    "\n",
    "    \n",
    "    # Estimation of the test set data\n",
    "    Y_test_us_pred_data = undersample_model.predict(X_test_data)\n",
    "    \n",
    "    # Generating Confusion matrix\n",
    "    print(\"Confusion Matrix\")\n",
    "   \n",
    "    confusion_test_us = metrics.confusion_matrix(Y_test_data, Y_test_us_pred_data)\n",
    "    print(confusion_test_us)\n",
    "    \n",
    "    #Confusion Matrix Display\n",
    "    cm_test_us = metrics.ConfusionMatrixDisplay(confusion_matrix=confusion_test_us)\n",
    "    cm_test_us.plot(cmap=plt.cm.Blues)\n",
    "    plt.show()\n",
    "    \n",
    "    print(\"Classification_report\")\n",
    "    TP = confusion_test_us[1,1] \n",
    "    TN = confusion_test_us[0,0] \n",
    "    FP = confusion_test_us[0,1] \n",
    "    FN = confusion_test_us[1,0] \n",
    "\n",
    "    # Accuracy\n",
    "    print(\"Accuracy:-\",metrics.accuracy_score(Y_test_data, Y_test_us_pred_data))\n",
    "\n",
    "    # Sensitivity\n",
    "    print(\"Sensitivity:-\",TP / float(TP+FN))\n",
    "\n",
    "    # Specificity\n",
    "    print(\"Specificity:-\", TN / float(TN+FP))\n",
    "\n",
    "    # F1 score\n",
    "    print(\"F1-Score:-\", f1_score(Y_test_data, Y_test_us_pred_data))\n",
    "\n",
    "    # Generating classification_report\n",
    "    print(classification_report(Y_test_data, Y_test_us_pred_data))\n",
    "    \n",
    "    # Predicted probability on test data\n",
    "    Y_test_us_pred_prob = undersample_model.predict_proba(X_test_data)[:,1]\n",
    "    \n",
    "    \n",
    "    # roc_auc of test data\n",
    "    print(\"**********ROC-AUC**********\")\n",
    "    roc_auc = metrics.roc_auc_score(Y_test_data,Y_test_us_pred_prob)\n",
    "    \n",
    "    \n",
    "    # Plotting the ROC curve\n",
    "    draw_roc(Y_test_data, Y_test_us_pred_prob)\n",
    "    \n",
    "    \n",
    "    \n",
    "    # Performance Evaluation metrics score in final result store for test data\n",
    "    rus_test_results.loc[len(rus_test_results)] = [model_name, metrics.accuracy_score(Y_test_data, Y_test_us_pred_data), f1_score(Y_test_data, Y_test_us_pred_data), roc_auc]\n",
    "\n",
    "    return None"
   ]
  },
  {
   "cell_type": "markdown",
   "metadata": {},
   "source": [
    "## Undersampling Logistic Regression"
   ]
  },
  {
   "cell_type": "code",
   "execution_count": null,
   "metadata": {},
   "outputs": [],
   "source": [
    "# Define the number of folds for cross validation\n",
    "folds_number = 3 \n",
    "\n",
    "# Define the cross-validation\n",
    "sk_fold = StratifiedKFold(n_splits=folds_number, shuffle=True, random_state=5)\n"
   ]
  },
  {
   "cell_type": "code",
   "execution_count": null,
   "metadata": {},
   "outputs": [],
   "source": [
    "\n",
    "# Identify the hyperparamaters\n",
    "parameters = {\"C\": [0.001,0.01, 0.1, 1, 10, 100, 1000]}\n",
    "\n",
    "# Define the Grid Search for predefined hyperparameters\n",
    "lr_us_model_cv = GridSearchCV(estimator=LogisticRegression(),\n",
    "                        param_grid = parameters, \n",
    "                        scoring= 'roc_auc', \n",
    "                        cv = sk_fold, \n",
    "                        verbose = 1,\n",
    "                        return_train_score=True,\n",
    "                        ) \n",
    "# Fit the logistic regression model\n",
    "lr_us_model_cv.fit(X_train_us, Y_train_us)"
   ]
  },
  {
   "cell_type": "code",
   "execution_count": null,
   "metadata": {},
   "outputs": [],
   "source": [
    "# Output of grid search CV\n",
    "lr_us_cv_results = pd.DataFrame(lr_us_model_cv.cv_results_)\n",
    "lr_us_cv_results"
   ]
  },
  {
   "cell_type": "code",
   "execution_count": null,
   "metadata": {},
   "outputs": [],
   "source": [
    "# C vs train and validation scores plotted\n",
    "\n",
    "plt.figure(figsize=(7,7))\n",
    "plt.plot(lr_us_cv_results['param_C'], lr_us_cv_results['mean_test_score'])\n",
    "plt.plot(lr_us_cv_results['param_C'], lr_us_cv_results['mean_train_score'])\n",
    "plt.xlabel('C')\n",
    "plt.ylabel('roc_auc')\n",
    "plt.legend(['test_data result', 'train_data result'], loc='upper right')\n",
    "plt.xscale('log')"
   ]
  },
  {
   "cell_type": "code",
   "execution_count": null,
   "metadata": {},
   "outputs": [],
   "source": [
    "# Highest score with a C\n",
    "\n",
    "lr_us_best_score = lr_us_model_cv.best_score_\n",
    "lr_us_best_C = lr_us_model_cv.best_params_['C']\n",
    "\n",
    "print(\" The roc auc test's maximum score is {0} at C = {1}\".format(lr_us_best_score, lr_us_best_C))"
   ]
  },
  {
   "cell_type": "markdown",
   "metadata": {},
   "source": [
    "### Logistic regression with optimum solution value of c which is 0.01"
   ]
  },
  {
   "cell_type": "code",
   "execution_count": null,
   "metadata": {},
   "outputs": [],
   "source": [
    "\n",
    "\n",
    "# Using the best C to instantiate the model.\n",
    "logistic_us = LogisticRegression(C=0.01)\n",
    "\n",
    "# Fitting the model on the train set data\n",
    "logistic_undersample_model = logistic_us.fit(X_train_us, Y_train_us)\n"
   ]
  },
  {
   "cell_type": "markdown",
   "metadata": {},
   "source": [
    "### Call the train_result function for diplaying result of logistic regression of undersample data"
   ]
  },
  {
   "cell_type": "code",
   "execution_count": null,
   "metadata": {},
   "outputs": [],
   "source": [
    "rus_train_modeling(\"Logistic Regression\", logistic_undersample_model)"
   ]
  },
  {
   "cell_type": "markdown",
   "metadata": {},
   "source": [
    "### call undersampling_test function for displaying result of test data"
   ]
  },
  {
   "cell_type": "code",
   "execution_count": null,
   "metadata": {},
   "outputs": [],
   "source": [
    "rus_test_modeling(\"Logistic Regression\", logistic_undersample_model)"
   ]
  },
  {
   "cell_type": "markdown",
   "metadata": {},
   "source": [
    "## Undersampling Decision tree"
   ]
  },
  {
   "cell_type": "code",
   "execution_count": null,
   "metadata": {},
   "outputs": [],
   "source": [
    "\n",
    "\n",
    "#The parameter grid's creation\n",
    "parameter_grid = {\n",
    "    'max_depth': range(5, 15, 5),\n",
    "    'min_samples_leaf': range(50, 150, 50),\n",
    "    'min_samples_split': range(50, 150, 50),\n",
    "}\n",
    "\n",
    "#Construct the grid search model \n",
    "dtree_us_model_cv = GridSearchCV(estimator = DecisionTreeClassifier(), \n",
    "                           param_grid = parameter_grid, \n",
    "                           scoring= 'roc_auc',\n",
    "                           cv = sk_fold, \n",
    "                           verbose = 1)\n",
    "# Fitting  the grid search for the data\n",
    "dtree_us_model_cv.fit(X_train_us,Y_train_us)"
   ]
  },
  {
   "cell_type": "code",
   "execution_count": null,
   "metadata": {},
   "outputs": [],
   "source": [
    "# cross validation results for decision tree\n",
    "dtree_us_cv_results = pd.DataFrame(dtree_us_model_cv.cv_results_)\n",
    "dtree_us_cv_results"
   ]
  },
  {
   "cell_type": "code",
   "execution_count": null,
   "metadata": {},
   "outputs": [],
   "source": [
    "# The best sensitivity score and hyperparameters are printed\n",
    "print(\"Best roc_auc score is : \", dtree_us_model_cv.best_score_)\n",
    "print(dtree_us_model_cv.best_estimator_)\n"
   ]
  },
  {
   "cell_type": "code",
   "execution_count": null,
   "metadata": {},
   "outputs": [],
   "source": [
    "# hyperparameter-optimal model\n",
    "dtree_us_model = DecisionTreeClassifier(criterion = \"gini\", \n",
    "                                  random_state = 10,\n",
    "                                  max_depth=10, \n",
    "                                  min_samples_leaf=50,\n",
    "                                  min_samples_split=50)\n",
    "\n",
    "dtree_us_model.fit(X_train_us, Y_train_us)\n"
   ]
  },
  {
   "cell_type": "markdown",
   "metadata": {},
   "source": [
    "### Call the train_result function for displaying result of predection on train data"
   ]
  },
  {
   "cell_type": "code",
   "execution_count": null,
   "metadata": {},
   "outputs": [],
   "source": [
    "rus_train_modeling(\"Decision Tree\",dtree_us_model)"
   ]
  },
  {
   "cell_type": "markdown",
   "metadata": {},
   "source": [
    "### Call the test_result function for displaying result of predection on train data"
   ]
  },
  {
   "cell_type": "code",
   "execution_count": null,
   "metadata": {},
   "outputs": [],
   "source": [
    "rus_test_modeling(\"Decision Tree\",dtree_us_model)"
   ]
  },
  {
   "cell_type": "markdown",
   "metadata": {},
   "source": [
    "## Undersampling XGBoost"
   ]
  },
  {
   "cell_type": "code",
   "execution_count": null,
   "metadata": {},
   "outputs": [],
   "source": [
    "   \n",
    "\n",
    "# Establish the hyperparameter range\n",
    "parameter_grid = {'learning_rate': [0.4, 0.8], \n",
    "             'subsample': [0.3, 0.6, 0.9]}          \n",
    "\n",
    "\n",
    "# Emphasise the model\n",
    "xgb_us_model = XGBClassifier(max_depth=3, n_estimators=300)\n",
    "\n",
    "# configure GridSearchCV ()\n",
    "xgb_us_model_cv = GridSearchCV(estimator = xgb_us_model, \n",
    "                        param_grid = parameter_grid, \n",
    "                        scoring= 'roc_auc', \n",
    "                        cv = sk_fold, \n",
    "                        verbose = 1,\n",
    "                        return_train_score=True)      \n",
    "\n",
    "# fitting the model\n",
    "xgb_us_model_cv.fit(X_train_us, Y_train_us)       \n"
   ]
  },
  {
   "cell_type": "code",
   "execution_count": null,
   "metadata": {},
   "outputs": [],
   "source": [
    "# Cross validation results for XGBoost model\n",
    "xgb_us_cv_results = pd.DataFrame(xgb_us_model_cv.cv_results_)\n",
    "xgb_us_cv_results"
   ]
  },
  {
   "cell_type": "code",
   "execution_count": null,
   "metadata": {},
   "outputs": [],
   "source": [
    "\n",
    "    \n",
    "# Define the plot size \n",
    "plt.figure(figsize=(20,8))\n",
    "\n",
    "parameter_grid = {'learning_rates': [0.2, 0.6], \n",
    "             'subsamples': [0.3, 0.6, 0.9]} \n",
    "\n",
    "\n",
    "for i, xgb_us_subsample in enumerate(parameter_grid['subsamples']):\n",
    "    \n",
    "\n",
    "    # plotting the subplot \n",
    "    plt.subplot(1,len(parameter_grid['subsamples']), i+1)\n",
    "    creditcard_df = xgb_us_cv_results[xgb_us_cv_results['param_subsample']==xgb_us_subsample]\n",
    "\n",
    "    plt.plot(creditcard_df[\"param_learning_rate\"], creditcard_df[\"mean_test_score\"])\n",
    "    plt.plot(creditcard_df[\"param_learning_rate\"], creditcard_df[\"mean_train_score\"])\n",
    "    plt.xlabel('Learning_rate of XGBoost')\n",
    "    plt.ylabel('AUC Of XGBoost')\n",
    "    plt.title(\"subsamples={0}\".format(xgb_us_subsample))\n",
    "    plt.ylim([0.60, 1])\n",
    "    plt.legend(['test data score', 'train data score'], loc='upper right')\n",
    "    plt.xscale('log')  "
   ]
  },
  {
   "cell_type": "code",
   "execution_count": null,
   "metadata": {},
   "outputs": [],
   "source": [
    "\n",
    "xgb_us_model_cv.best_params_"
   ]
  },
  {
   "cell_type": "code",
   "execution_count": null,
   "metadata": {},
   "outputs": [],
   "source": [
    "\n",
    "# specified hyperparameters\n",
    "parameters = {'learning_rate': 0.4,\n",
    "          'max_depth': 3, \n",
    "          'n_estimators':300,\n",
    "          'subsample':0.6,\n",
    "         'objective':'binary:logistic'}\n",
    "\n",
    "# fitting  the model on training data\n",
    "xgb_us_model = XGBClassifier(params = parameters)\n",
    "xgb_us_model.fit(X_train_us, Y_train_us)"
   ]
  },
  {
   "cell_type": "markdown",
   "metadata": {},
   "source": [
    "### call undersampling_train function"
   ]
  },
  {
   "cell_type": "code",
   "execution_count": null,
   "metadata": {},
   "outputs": [],
   "source": [
    "rus_train_modeling(\"XGBoost\",xgb_us_model)"
   ]
  },
  {
   "cell_type": "markdown",
   "metadata": {},
   "source": [
    "### call undersampling_train function"
   ]
  },
  {
   "cell_type": "code",
   "execution_count": null,
   "metadata": {},
   "outputs": [],
   "source": [
    "rus_test_modeling(\"XGBoost\",xgb_us_model)"
   ]
  },
  {
   "cell_type": "code",
   "execution_count": null,
   "metadata": {},
   "outputs": [],
   "source": [
    "rus_train_results.sort_values(by='ROC', ascending=False)\n",
    "\n"
   ]
  },
  {
   "cell_type": "code",
   "execution_count": null,
   "metadata": {},
   "outputs": [],
   "source": [
    "# Creating the dataframe for storing the results of undersampled dataset performance metrics of train data and test data\n",
    "rus_test_results.sort_values(by='ROC', ascending=False)"
   ]
  },
  {
   "cell_type": "code",
   "execution_count": null,
   "metadata": {},
   "outputs": [],
   "source": [
    "\n",
    "\n",
    "scores_df = pd.DataFrame(rus_test_results)\n",
    "scores_df.plot(x='Model Name',kind='bar',figsize=(8, 8))\n",
    "\n"
   ]
  },
  {
   "cell_type": "markdown",
   "metadata": {},
   "source": [
    "## Oversampling"
   ]
  },
  {
   "cell_type": "code",
   "execution_count": null,
   "metadata": {},
   "outputs": [],
   "source": [
    "# Fitting the feature and target variable \n",
    "ro_sampling = RandomOverSampler(random_state=30)\n",
    "X_train_os, Y_train_os = ro_sampling.fit_resample(X_train_data, Y_train_data)\n",
    "\n",
    "\n",
    "print('Imbalanced dataset shape Is :', Counter(Y_train_data))\n",
    "print('Undersampling dataset shape Is: ', Counter(Y_train_os))\n",
    "\n",
    "#visualize the oversample data by countplot\n",
    "oversample_df = pd.DataFrame(Y_train_os) \n",
    "sns.countplot(x='Class', data=oversample_df, color='g')\n",
    "plt.title('Ratio of fraudulent vs non-fraudulent transcations with Oversampling \\n (Normal : 0 & Abnormal : 1)', fontsize=10)\n",
    "plt.show()\n"
   ]
  },
  {
   "cell_type": "markdown",
   "metadata": {},
   "source": [
    "### define the function for oversampling train"
   ]
  },
  {
   "cell_type": "code",
   "execution_count": null,
   "metadata": {},
   "outputs": [],
   "source": [
    "# Creating the dataframe for storing the results of undersampled dataset performance metrics of train data and test data\n",
    "ros_train_results= pd.DataFrame(columns=['Model Name', 'Accuracy', 'F1-score', 'ROC'])\n",
    "ros_test_results=pd.DataFrame(columns=['Model Name','Accuracy','F1-score','ROC'])"
   ]
  },
  {
   "cell_type": "code",
   "execution_count": null,
   "metadata": {},
   "outputs": [],
   "source": [
    "# Prepare results function\n",
    "def ros_train_modeling(model_name,oversample_model):\n",
    "    \n",
    "    #Predictions on the train set\n",
    "    Y_train_os_pred_data = oversample_model.predict(X_train_os)\n",
    "    \n",
    "    #Generating Confusion matrix\n",
    "    \n",
    "    print(\"**********Confusion Matrix**********\")\n",
    "    confusion_train_os = metrics.confusion_matrix(Y_train_os, Y_train_os_pred_data)\n",
    "    print(confusion_train_os)\n",
    "    \n",
    "    # Displaying Confusion matrix\n",
    "    cm_train_os = ConfusionMatrixDisplay(confusion_matrix=confusion_train_os)\n",
    "    cm_train_os.plot(cmap=plt.cm.Blues)\n",
    "    plt.show()\n",
    "    \n",
    "    print(\"**********Classification_report**********\")\n",
    "    TP = confusion_train_os[1,1] \n",
    "    TN = confusion_train_os[0,0] \n",
    "    FP = confusion_train_os[0,1] \n",
    "    FN = confusion_train_os[1,0] \n",
    "    \n",
    "    # Accuracy\n",
    "    print(\"Accuracy:-\",metrics.accuracy_score(Y_train_os, Y_train_os_pred_data))\n",
    "\n",
    "    # Sensitivity\n",
    "    print(\"Sensitivity:-\",TP / float(TP+FN))\n",
    "\n",
    "    # Specificity\n",
    "    print(\"Specificity:-\", TN / float(TN+FP))\n",
    "\n",
    "    # F1 score\n",
    "    print(\"F1-Score:-\", f1_score(Y_train_os, Y_train_os_pred_data))\n",
    "\n",
    "    # classification_report\n",
    "    print(classification_report(Y_train_os, Y_train_os_pred_data))\n",
    "    \n",
    "    # Predicted probability\n",
    "    Y_train_pred_os_prob = oversample_model.predict_proba(X_train_os)[:,1]\n",
    "    \n",
    "     # roc_auc\n",
    "    print(\"------------------ ROC --------------------\")\n",
    "    roc_auc = metrics.roc_auc_score(Y_train_os, Y_train_pred_os_prob)\n",
    "    \n",
    "    # Plot the ROC curve\n",
    "    draw_roc(Y_train_os, Y_train_pred_os_prob)\n",
    "    \n",
    "    \n",
    "    \n",
    "    \n",
    "    \n",
    "    # Performance Evaluation metrics score in final result store for train data\n",
    "    ros_train_results.loc[len(ros_train_results)] = [model_name, metrics.accuracy_score(Y_train_os, Y_train_os_pred_data), f1_score(Y_train_os, Y_train_os_pred_data), roc_auc]\n",
    "\n",
    "    return None"
   ]
  },
  {
   "cell_type": "markdown",
   "metadata": {},
   "source": [
    "### define the function for oversampling test"
   ]
  },
  {
   "cell_type": "code",
   "execution_count": null,
   "metadata": {},
   "outputs": [],
   "source": [
    "# Prepare results function\n",
    "def ros_test_modeling(model_name,oversample_model):\n",
    "    \n",
    "    # Estimation of the test set data\n",
    "    Y_test_os_pred_data = oversample_model.predict(X_test_data)\n",
    "    \n",
    "    # Generating Confusion matrix\n",
    "    print(\"Confusion Matrix\")\n",
    "    confusion_test_os = metrics.confusion_matrix(Y_test_data, Y_test_os_pred_data)\n",
    "    print(confusion_test_os)\n",
    "    \n",
    "    #Confusion Matrix Display\n",
    "    cm_test_os = ConfusionMatrixDisplay(confusion_matrix=confusion_test_os)\n",
    "    cm_test_os.plot(cmap=plt.cm.Blues)\n",
    "    plt.show()\n",
    "    \n",
    "    print(\"Classification_report\")\n",
    "    TP = confusion_test_os[1,1] \n",
    "    TN = confusion_test_os[0,0] \n",
    "    FP = confusion_test_os[0,1] \n",
    "    FN = confusion_test_os[1,0] \n",
    "\n",
    "    # Accuracy\n",
    "    print(\"Accuracy:-\",metrics.accuracy_score(Y_test_data, Y_test_os_pred_data))\n",
    "\n",
    "    # Sensitivity\n",
    "    print(\"Sensitivity:-\",TP / float(TP+FN))\n",
    "\n",
    "    # Specificity\n",
    "    print(\"Specificity:-\", TN / float(TN+FP))\n",
    "\n",
    "    # F1 score\n",
    "    print(\"F1-Score:-\", f1_score(Y_test_data, Y_test_os_pred_data))\n",
    "\n",
    "    # generating classification_report\n",
    "    print(classification_report(Y_test_data, Y_test_os_pred_data))\n",
    "    \n",
    "   # Predicted probability on test data\n",
    "    Y_test_os_pred_prob = oversample_model.predict_proba(X_test_data)[:,1]\n",
    "    \n",
    "    \n",
    "    # roc_auc\n",
    "    print(\"ROC\")\n",
    "    roc_auc = metrics.roc_auc_score(Y_test_data, Y_test_os_pred_prob)\n",
    "    \n",
    "    \n",
    "    # Plot the ROC curve\n",
    "    draw_roc(Y_test_data, Y_test_os_pred_prob)\n",
    "    \n",
    "   \n",
    "    \n",
    "    \n",
    "    \n",
    "   # Performance Evaluation metrics score in final result store for test data\n",
    "    ros_test_results.loc[len(ros_test_results)] = [model_name, metrics.accuracy_score(Y_test_data, Y_test_os_pred_data), f1_score(Y_test_data, Y_test_os_pred_data), roc_auc]\n",
    "\n",
    "    return None"
   ]
  },
  {
   "cell_type": "markdown",
   "metadata": {},
   "source": [
    "### Logistic regression"
   ]
  },
  {
   "cell_type": "code",
   "execution_count": null,
   "metadata": {},
   "outputs": [],
   "source": [
    "# Define the number of folds for cross validation\n",
    "folds_number = 3\n",
    "\n",
    "# Define the cross-validation\n",
    "sk_fold = StratifiedKFold(n_splits=folds_number, shuffle=True, random_state=5)\n"
   ]
  },
  {
   "cell_type": "code",
   "execution_count": null,
   "metadata": {},
   "outputs": [],
   "source": [
    "\n",
    "# Identify the hyperparamaters\n",
    "parameters = {\"C\": [0.001,0.01, 0.1, 1, 10, 100, 1000]}\n",
    "\n",
    "scoring= {'AUC':'roc_auc', 'REC':'recall', 'PRE':'precision','ACC':'accuracy'}\n",
    "# Define the Grid Search for predefined hyperparameters\n",
    "lr_os_model_cv = GridSearchCV(estimator=LogisticRegression(),\n",
    "                        param_grid = parameters, \n",
    "                        scoring= 'roc_auc', \n",
    "                        cv = sk_fold, \n",
    "                        verbose = 3,\n",
    "                        return_train_score=True,\n",
    "                        ) \n",
    "# Fit the logistic regression model\n",
    "lr_os_model_cv.fit(X_train_os, Y_train_os)"
   ]
  },
  {
   "cell_type": "code",
   "execution_count": null,
   "metadata": {},
   "outputs": [],
   "source": [
    "\n",
    "\n",
    "# Output of grid search CV\n",
    "lr_os_cv_results = pd.DataFrame(lr_os_model_cv.cv_results_)\n",
    "lr_os_cv_results\n",
    "\n"
   ]
  },
  {
   "cell_type": "code",
   "execution_count": null,
   "metadata": {},
   "outputs": [],
   "source": [
    "\n",
    "# C vs train and validation scores plotted\n",
    "\n",
    "plt.figure(figsize=(7,7))\n",
    "plt.plot(lr_os_cv_results['param_C'], lr_os_cv_results['mean_test_score'])\n",
    "plt.plot(lr_os_cv_results['param_C'], lr_os_cv_results['mean_train_score'])\n",
    "plt.xlabel('C')\n",
    "plt.ylabel('roc_auc')\n",
    "plt.legend(['test_data result', 'train_data result'], loc='upper right')\n",
    "plt.xscale('log')\n",
    "\n"
   ]
  },
  {
   "cell_type": "code",
   "execution_count": null,
   "metadata": {},
   "outputs": [],
   "source": [
    "\n",
    "# Highest score with a C\n",
    "\n",
    "lr_os_best_score = lr_os_model_cv.best_score_\n",
    "lr_os_best_C = lr_os_model_cv.best_params_['C']\n",
    "\n",
    "print(\" The roc auc test's maximum score is {0} at C = {1}\".format(lr_os_best_score, lr_os_best_C))"
   ]
  },
  {
   "cell_type": "code",
   "execution_count": null,
   "metadata": {},
   "outputs": [],
   "source": [
    "\n",
    "# Using the best C to instantiate the model.\n",
    "logistic_os = LogisticRegression(C=1)\n",
    "\n",
    "# Fitting the model on the train set data\n",
    "logistic_oversample_model = logistic_os.fit(X_train_os, Y_train_os)\n"
   ]
  },
  {
   "cell_type": "code",
   "execution_count": null,
   "metadata": {},
   "outputs": [],
   "source": [
    "ros_train_modeling(\"Logistic Regression\", logistic_oversample_model)"
   ]
  },
  {
   "cell_type": "code",
   "execution_count": null,
   "metadata": {},
   "outputs": [],
   "source": [
    "ros_test_modeling(\"Logistic Regression\", logistic_oversample_model)"
   ]
  },
  {
   "cell_type": "markdown",
   "metadata": {},
   "source": [
    "### decision tree"
   ]
  },
  {
   "cell_type": "code",
   "execution_count": null,
   "metadata": {},
   "outputs": [],
   "source": [
    "\n",
    "#The parameter grid's creation\n",
    "parameter_grid = {\n",
    "    'max_depth': range(5, 15, 5),\n",
    "    'min_samples_leaf': range(50, 150, 50),\n",
    "    'min_samples_split': range(50, 150, 50),\n",
    "}\n",
    "\n",
    "#Construct the grid search model \n",
    "dtree_os_model_cv = GridSearchCV(estimator = DecisionTreeClassifier(), \n",
    "                           param_grid = parameter_grid, \n",
    "                           scoring= 'roc_auc',\n",
    "                           cv = sk_fold, \n",
    "                           verbose = 3)\n",
    "# Fitting  the grid search for the data\n",
    "dtree_os_model_cv.fit(X_train_os,Y_train_os)"
   ]
  },
  {
   "cell_type": "code",
   "execution_count": null,
   "metadata": {},
   "outputs": [],
   "source": [
    "# cross validation results for decision tree\n",
    "dtree_os_cv_results = pd.DataFrame(dtree_os_model_cv.cv_results_)\n",
    "dtree_os_cv_results"
   ]
  },
  {
   "cell_type": "code",
   "execution_count": null,
   "metadata": {},
   "outputs": [],
   "source": [
    "# The best sensitivity score and hyperparameters are printed\n",
    "print(\"Best roc_auc score is : \", dtree_os_model_cv.best_score_)\n",
    "print(dtree_os_model_cv.best_estimator_)\n"
   ]
  },
  {
   "cell_type": "code",
   "execution_count": null,
   "metadata": {},
   "outputs": [],
   "source": [
    "# hyperparameter-optimal model\n",
    "dtree_os_model = DecisionTreeClassifier(criterion = \"gini\", \n",
    "                                  random_state = 10,\n",
    "                                  max_depth=10, \n",
    "                                  min_samples_leaf=100,\n",
    "                                  min_samples_split=100)\n",
    "\n",
    "dtree_os_model.fit(X_train_us, Y_train_us)\n"
   ]
  },
  {
   "cell_type": "code",
   "execution_count": null,
   "metadata": {},
   "outputs": [],
   "source": [
    "ros_train_modeling(\"Decision Tree\",dtree_os_model)"
   ]
  },
  {
   "cell_type": "code",
   "execution_count": null,
   "metadata": {},
   "outputs": [],
   "source": [
    "ros_test_modeling(\"Decision Tree\",dtree_os_model)"
   ]
  },
  {
   "cell_type": "markdown",
   "metadata": {},
   "source": [
    "## XGBoost"
   ]
  },
  {
   "cell_type": "code",
   "execution_count": null,
   "metadata": {},
   "outputs": [],
   "source": [
    "\n",
    "# Establish the hyperparameter range\n",
    "parameter_grid = {'learning_rate': [0.2, 0.6], \n",
    "             'subsample': [0.3, 0.6, 0.9]}          \n",
    "\n",
    "\n",
    "# Emphasise the model\n",
    "xgb_os_model = XGBClassifier(max_depth=2, n_estimators=200)\n",
    "\n",
    "# configure GridSearchCV ()\n",
    "xgb_os_model_cv = GridSearchCV(estimator = xgb_os_model, \n",
    "                        param_grid = parameter_grid, \n",
    "                        scoring= 'roc_auc', \n",
    "                        cv = sk_fold, \n",
    "                        verbose = 3,\n",
    "                        return_train_score=True)      \n",
    "\n",
    "# fitting the model\n",
    "xgb_os_model_cv.fit(X_train_os, Y_train_os)       \n",
    "\n"
   ]
  },
  {
   "cell_type": "code",
   "execution_count": null,
   "metadata": {},
   "outputs": [],
   "source": [
    "# Cross validation results for XGBoost model\n",
    "xgb_os_cv_results = pd.DataFrame(xgb_os_model_cv.cv_results_)\n",
    "xgb_os_cv_results"
   ]
  },
  {
   "cell_type": "code",
   "execution_count": null,
   "metadata": {},
   "outputs": [],
   "source": [
    "\n",
    "# Define the plot size \n",
    "plt.figure(figsize=(20,8))\n",
    "\n",
    "parameter_grid = {'learning_rates': [0.2, 0.6], \n",
    "             'subsamples': [0.3, 0.6, 0.9]} \n",
    "\n",
    "\n",
    "for i, xgb_os_subsample in enumerate(parameter_grid['subsamples']):\n",
    "    \n",
    "\n",
    "    # plotting the subplot \n",
    "    plt.subplot(1,len(parameter_grid['subsamples']), i+1)\n",
    "    creditcard_df = xgb_os_cv_results[xgb_us_cv_results['param_subsample']==xgb_os_subsample]\n",
    "\n",
    "    plt.plot(creditcard_df[\"param_learning_rate\"], creditcard_df[\"mean_test_score\"])\n",
    "    plt.plot(creditcard_df[\"param_learning_rate\"], creditcard_df[\"mean_train_score\"])\n",
    "    plt.xlabel('Learning_rate of XGBoost')\n",
    "    plt.ylabel('AUC Of XGBoost')\n",
    "    plt.title(\"subsamples={0}\".format(xgb_os_subsample))\n",
    "    plt.ylim([0.60, 1])\n",
    "    plt.legend(['test data score', 'train data score'], loc='upper right')\n",
    "    plt.xscale('log')  "
   ]
  },
  {
   "cell_type": "code",
   "execution_count": null,
   "metadata": {},
   "outputs": [],
   "source": [
    "xgb_os_model_cv.best_params_"
   ]
  },
  {
   "cell_type": "code",
   "execution_count": null,
   "metadata": {},
   "outputs": [],
   "source": [
    "\n",
    "# specified hyperparameters\n",
    "parameters = {'learning_rate': 0.6,\n",
    "          'max_depth': 2, \n",
    "          'n_estimators':200,\n",
    "          'subsample':0.9,\n",
    "         'objective':'binary:logistic'}\n",
    "\n",
    "# fitting  the model on training data\n",
    "xgb_os_model = XGBClassifier(params = parameters)\n",
    "xgb_os_model.fit(X_train_os, Y_train_os)"
   ]
  },
  {
   "cell_type": "code",
   "execution_count": null,
   "metadata": {},
   "outputs": [],
   "source": [
    "ros_train_modeling(\"XGBoost\",xgb_os_model)"
   ]
  },
  {
   "cell_type": "code",
   "execution_count": null,
   "metadata": {},
   "outputs": [],
   "source": [
    "ros_test_modeling(\"XGBoost\",xgb_os_model)"
   ]
  },
  {
   "cell_type": "code",
   "execution_count": null,
   "metadata": {},
   "outputs": [],
   "source": [
    "# # Creating the dataframe for storing the results of undersampled dataset performance metrics of train data and test data\n",
    "ros_train_results.sort_values(by='ROC', ascending=False)"
   ]
  },
  {
   "cell_type": "code",
   "execution_count": null,
   "metadata": {},
   "outputs": [],
   "source": [
    "# Creating the dataframe for storing the results of undersampled dataset performance metrics of train data and test data\n",
    "ros_test_results.sort_values(by='ROC', ascending=False)"
   ]
  },
  {
   "cell_type": "code",
   "execution_count": null,
   "metadata": {},
   "outputs": [],
   "source": [
    "scores_df = pd.DataFrame(ros_test_results)\n",
    "scores_df.plot(x='Model Name',kind='bar',figsize=(8, 8))\n"
   ]
  },
  {
   "cell_type": "markdown",
   "metadata": {},
   "source": [
    "### ADasyn sampling"
   ]
  },
  {
   "cell_type": "code",
   "execution_count": null,
   "metadata": {},
   "outputs": [],
   "source": [
    "# Creating the dataframe for storing the results of undersampled dataset performance metrics of train data and test data\n",
    "asyn_train_results= pd.DataFrame(columns=['Model Name', 'Accuracy', 'F1-score', 'ROC'])\n",
    "asyn_test_results=pd.DataFrame(columns=['Model Name','Accuracy','F1-score','ROC'])"
   ]
  },
  {
   "cell_type": "code",
   "execution_count": null,
   "metadata": {},
   "outputs": [],
   "source": [
    "# Define the function for train_results \n",
    "def asyn_train_modeling(model_name,adasyn_model):\n",
    "    \n",
    "    \n",
    "    # Estimation of the train set data\n",
    "    Y_train_asyn_pred_data = adasyn_model.predict(X_train_adasyn)\n",
    "    \n",
    "    # Generating Confusion matrix\n",
    "    print(\"**********Confusion Matrix**********\")\n",
    "    confusion_train_asyn = metrics.confusion_matrix(Y_train_adasyn, Y_train_asyn_pred_data)\n",
    "    print(confusion_train_asyn)\n",
    "    \n",
    "    # Displaying Confusion matrix\n",
    "    cm_train_asyn = metrics.ConfusionMatrixDisplay(confusion_matrix=confusion_train_asyn )\n",
    "    cm_train_asyn.plot(cmap=plt.cm.Blues)\n",
    "    plt.show()\n",
    "    \n",
    "    print(\"**********Classification_report**********\")\n",
    "    TP = confusion_train_asyn[1,1] \n",
    "    TN = confusion_train_asyn[0,0] \n",
    "    FP = confusion_train_asyn[0,1] \n",
    "    FN = confusion_train_asyn[1,0] \n",
    "\n",
    "    # Accuracy\n",
    "    print(\"Accuracy:-\",metrics.accuracy_score(Y_train_adasyn, Y_train_asyn_pred_data))\n",
    "\n",
    "    # Sensitivity\n",
    "    print(\"Sensitivity:-\",TP / float(TP+FN))\n",
    "\n",
    "    # Specificity\n",
    "    print(\"Specificity:-\", TN / float(TN+FP))\n",
    "\n",
    "    # F1 score\n",
    "    print(\"F1-Score:-\", f1_score(Y_train_adasyn, Y_train_asyn_pred_data))\n",
    "\n",
    "    # classification_report\n",
    "    print(classification_report(Y_train_adasyn, Y_train_asyn_pred_data))\n",
    "    \n",
    "    # Predicted probability\n",
    "    Y_train_pred_asyn_prob = adasyn_model.predict_proba(X_train_adasyn)[:,1]\n",
    "    \n",
    "     # roc_auc\n",
    "    print(\"------------------ ROC --------------------\")\n",
    "    roc_auc = metrics.roc_auc_score(Y_train_adasyn, Y_train_pred_asyn_prob)\n",
    "    \n",
    "    # Plotting the ROC curve\n",
    "    draw_roc(Y_train_adasyn, Y_train_pred_asyn_prob)\n",
    "    \n",
    "    \n",
    "    # Performance Evaluation metrics score in final result store for train data\n",
    "    asyn_train_results.loc[len(asyn_train_results)] = [model_name, metrics.accuracy_score(Y_train_adasyn, Y_train_asyn_pred_data), f1_score(Y_train_adasyn, Y_train_asyn_pred_data), roc_auc]\n",
    "\n",
    "    return None"
   ]
  },
  {
   "cell_type": "code",
   "execution_count": null,
   "metadata": {},
   "outputs": [],
   "source": [
    "# Define the function for test_results \n",
    "def asyn_test_modeling(model_name,adasyn_model):\n",
    "    \n",
    "\n",
    "    \n",
    "    # Estimation of the test set data\n",
    "    Y_test_asyn_pred_data = adasyn_model.predict(X_test_data)\n",
    "    \n",
    "    # Generating Confusion matrix\n",
    "    print(\"Confusion Matrix\")\n",
    "   \n",
    "    confusion_test_asyn = metrics.confusion_matrix(Y_test_data, Y_test_asyn_pred_data)\n",
    "    print(confusion_test_asyn)\n",
    "    \n",
    "    #Confusion Matrix Display\n",
    "    cm_test_asyn = metrics.ConfusionMatrixDisplay(confusion_matrix=confusion_test_asyn)\n",
    "    cm_test_asyn.plot(cmap=plt.cm.Blues)\n",
    "    plt.show()\n",
    "    \n",
    "    print(\"Classification_report\")\n",
    "    TP = confusion_test_asyn[1,1] # true positive \n",
    "    TN = confusion_test_asyn[0,0] # true negatives\n",
    "    FP = confusion_test_asyn[0,1] # false positives\n",
    "    FN = confusion_test_asyn[1,0] # false negatives\n",
    "\n",
    "    # Accuracy\n",
    "    print(\"Accuracy:-\",metrics.accuracy_score(Y_test_data, Y_test_asyn_pred_data))\n",
    "\n",
    "    # Sensitivity\n",
    "    print(\"Sensitivity:-\",TP / float(TP+FN))\n",
    "\n",
    "    # Specificity\n",
    "    print(\"Specificity:-\", TN / float(TN+FP))\n",
    "\n",
    "    # F1 score\n",
    "    print(\"F1-Score:-\", f1_score(Y_test_data, Y_test_asyn_pred_data))\n",
    "\n",
    "    # Generating classification_report\n",
    "    print(classification_report(Y_test_data, Y_test_asyn_pred_data))\n",
    "    \n",
    "    # Predicted probability on test data\n",
    "    Y_test_asyn_pred_prob = adasyn_model.predict_proba(X_test_data)[:,1]\n",
    "    \n",
    "    \n",
    "    # roc_auc of test data\n",
    "    print(\"ROC-AUC\")\n",
    "    roc_auc = metrics.roc_auc_score(Y_test_data,Y_test_asyn_pred_prob)\n",
    "    \n",
    "    \n",
    "    # Plotting the ROC curve\n",
    "    draw_roc(Y_test_data, Y_test_asyn_pred_prob)\n",
    "    \n",
    "    \n",
    "    \n",
    "    # Performance Evaluation metrics score in final result store for test data\n",
    "    asyn_test_results.loc[len(asyn_test_results)] = [model_name, metrics.accuracy_score(Y_test_data, Y_test_asyn_pred_data), f1_score(Y_test_data, Y_test_asyn_pred_data), roc_auc]\n",
    "\n",
    "    return None"
   ]
  },
  {
   "cell_type": "code",
   "execution_count": null,
   "metadata": {},
   "outputs": [],
   "source": [
    "from collections import Counter\n",
    "\n",
    "adasyn= ADASYN(sampling_strategy='minority')\n",
    "X_train_adasyn,Y_train_adasyn=adasyn.fit_resample(X_train_data, Y_train_data)\n",
    "\n",
    "print(\"Imbalanced dataset shape is : \",Counter(Y_train_data))\n",
    "print(\"Adasyn dataset shape is : \",Counter(Y_train_adasyn))\n",
    "\n",
    "adasyn_df = pd.DataFrame(Y_train_adasyn) \n",
    "sns.countplot(x='Class', data=adasyn_df, color='g')\n",
    "plt.title('Ratio of fraudulent vs non-fraudulent transcations with Adaptive Synthetic Sampling \\n (Normal : 0 & Abnormal : 1)', fontsize=10)\n",
    "plt.show()\n",
    "\n",
    "\n"
   ]
  },
  {
   "cell_type": "code",
   "execution_count": null,
   "metadata": {},
   "outputs": [],
   "source": [
    "# Define the number of folds for cross validation\n",
    "folds_number = 3 \n",
    "\n",
    "# Define the cross-validation\n",
    "sk_fold = StratifiedKFold(n_splits=folds_number, shuffle=True, random_state=5)"
   ]
  },
  {
   "cell_type": "markdown",
   "metadata": {},
   "source": [
    "### Logistic Regression"
   ]
  },
  {
   "cell_type": "code",
   "execution_count": null,
   "metadata": {},
   "outputs": [],
   "source": [
    "# Identify the hyperparamaters\n",
    "parameters = {\"C\": [0.001,0.01, 0.1, 1, 10, 100, 1000]}\n",
    "\n",
    "# Define the Grid Search for predefined hyperparameters\n",
    "lr_asyn_model_cv = GridSearchCV(estimator=LogisticRegression(),\n",
    "                        param_grid = parameters, \n",
    "                        scoring= 'roc_auc', \n",
    "                        cv = sk_fold, \n",
    "                        verbose = 3,\n",
    "                        return_train_score=True,\n",
    "                        ) \n",
    "# Fit the logistic regression model\n",
    "lr_asyn_model_cv.fit(X_train_adasyn,Y_train_adasyn)"
   ]
  },
  {
   "cell_type": "code",
   "execution_count": null,
   "metadata": {},
   "outputs": [],
   "source": [
    "# Output of grid search CV\n",
    "lr_asyn_cv_results = pd.DataFrame(lr_asyn_model_cv.cv_results_)\n",
    "lr_asyn_cv_results"
   ]
  },
  {
   "cell_type": "code",
   "execution_count": null,
   "metadata": {},
   "outputs": [],
   "source": [
    "# C vs train and validation scores plotted\n",
    "\n",
    "plt.figure(figsize=(7,7))\n",
    "plt.plot(lr_asyn_cv_results['param_C'], lr_asyn_cv_results['mean_test_score'])\n",
    "plt.plot(lr_asyn_cv_results['param_C'], lr_asyn_cv_results['mean_train_score'])\n",
    "plt.xlabel('C')\n",
    "plt.ylabel('roc_auc')\n",
    "plt.legend(['test_data result', 'train_data result'], loc='upper right')\n",
    "plt.xscale('log')"
   ]
  },
  {
   "cell_type": "code",
   "execution_count": null,
   "metadata": {},
   "outputs": [],
   "source": [
    "\n",
    "# Highest score with a C\n",
    "\n",
    "lr_asyn_best_score = lr_asyn_model_cv.best_score_\n",
    "lr_asyn_best_C = lr_asyn_model_cv.best_params_['C']\n",
    "\n",
    "print(\" The roc auc test's maximum score is {0} at C = {1}\".format(lr_asyn_best_score, lr_asyn_best_C))"
   ]
  },
  {
   "cell_type": "code",
   "execution_count": null,
   "metadata": {},
   "outputs": [],
   "source": [
    "\n",
    "# Using the best C to instantiate the model.\n",
    "logistic_asyn = LogisticRegression(C=1)\n",
    "\n",
    "# Fitting the model on the train set data\n",
    "logistic_asyn_model = logistic_asyn.fit(X_train_adasyn, Y_train_adasyn)"
   ]
  },
  {
   "cell_type": "code",
   "execution_count": null,
   "metadata": {},
   "outputs": [],
   "source": [
    "asyn_train_modeling(\"Logistic Regression\", logistic_asyn_model)"
   ]
  },
  {
   "cell_type": "code",
   "execution_count": null,
   "metadata": {},
   "outputs": [],
   "source": [
    "asyn_test_modeling(\"Logistic Regression\", logistic_asyn_model)"
   ]
  },
  {
   "cell_type": "markdown",
   "metadata": {},
   "source": [
    "### Decision tree"
   ]
  },
  {
   "cell_type": "code",
   "execution_count": null,
   "metadata": {},
   "outputs": [],
   "source": [
    "#The parameter grid's creation\n",
    "parameter_grid = {\n",
    "    'max_depth': range(5, 15, 5),\n",
    "    'min_samples_leaf': range(50, 150, 50),\n",
    "    'min_samples_split': range(50, 150, 50),\n",
    "}\n",
    "\n",
    "#Construct the grid search model \n",
    "dt_asyn_model_cv = GridSearchCV(estimator = DecisionTreeClassifier(), \n",
    "                           param_grid = parameter_grid, \n",
    "                           scoring= 'roc_auc',\n",
    "                           cv = sk_fold, \n",
    "                           verbose = 3)\n",
    "# Fitting  the grid search for the data\n",
    "dt_asyn_model_cv.fit(X_train_adasyn,Y_train_adasyn)\n",
    "\n",
    "\n",
    "\n",
    "\n"
   ]
  },
  {
   "cell_type": "code",
   "execution_count": null,
   "metadata": {},
   "outputs": [],
   "source": [
    "# cross validation results for decision tree\n",
    "dt_asyn_cv_results = pd.DataFrame(dt_asyn_model_cv.cv_results_)\n",
    "dt_asyn_cv_results"
   ]
  },
  {
   "cell_type": "code",
   "execution_count": null,
   "metadata": {},
   "outputs": [],
   "source": [
    "# The best sensitivity score and hyperparameters are printed\n",
    "print(\"Best roc_auc score is : \", dt_asyn_model_cv.best_score_)\n",
    "print(dt_asyn_model_cv.best_estimator_)"
   ]
  },
  {
   "cell_type": "code",
   "execution_count": null,
   "metadata": {},
   "outputs": [],
   "source": [
    "# hyperparameter-optimal model\n",
    "dtree_asyn_model = DecisionTreeClassifier(criterion = \"gini\", \n",
    "                                  random_state = 10,\n",
    "                                  max_depth=10, \n",
    "                                  min_samples_leaf=100,\n",
    "                                  min_samples_split=100)\n",
    "\n",
    "dtree_asyn_model.fit(X_train_adasyn, Y_train_adasyn)\n",
    "\n",
    "\n"
   ]
  },
  {
   "cell_type": "code",
   "execution_count": null,
   "metadata": {},
   "outputs": [],
   "source": [
    "asyn_train_modeling(\"Decision Tree\",dtree_asyn_model)"
   ]
  },
  {
   "cell_type": "code",
   "execution_count": null,
   "metadata": {},
   "outputs": [],
   "source": [
    "asyn_test_modeling(\"Decision Tree\",dtree_asyn_model)"
   ]
  },
  {
   "cell_type": "markdown",
   "metadata": {},
   "source": [
    "### XGBoost"
   ]
  },
  {
   "cell_type": "code",
   "execution_count": null,
   "metadata": {},
   "outputs": [],
   "source": [
    "# hyperparameter tuning with XGBoost\n",
    "\n",
    "# creating a KFold object \n",
    "folds = 3\n",
    "\n",
    "# specify range of hyperparameters\n",
    "param_grid = {'learning_rate': [0.2, 0.6], \n",
    "             'subsample': [0.3, 0.6, 0.9]}          \n",
    "\n",
    "\n",
    "# specify model\n",
    "xgb_model = XGBClassifier(max_depth=2, n_estimators=200)\n",
    "\n",
    "# set up GridSearchCV()\n",
    "xgb_asyn_model_cv = GridSearchCV(estimator = xgb_model, \n",
    "                        param_grid = param_grid, \n",
    "                        scoring= 'roc_auc', \n",
    "                        cv = folds, \n",
    "                        verbose = 1,\n",
    "                        return_train_score=True)      \n",
    "\n",
    "# fit the model\n",
    "xgb_asyn_model_cv.fit(X_train_adasyn, Y_train_adasyn)   "
   ]
  },
  {
   "cell_type": "code",
   "execution_count": null,
   "metadata": {},
   "outputs": [],
   "source": [
    "# Cross validation results for XGBoost model\n",
    "xgb_asyn_cv_results = pd.DataFrame(xgb_asyn_model_cv.cv_results_)\n",
    "xgb_asyn_cv_results"
   ]
  },
  {
   "cell_type": "code",
   "execution_count": null,
   "metadata": {},
   "outputs": [],
   "source": [
    "# Define the plot size \n",
    "plt.figure(figsize=(20,8))\n",
    "\n",
    "parameter_grid = {'learning_rates': [0.2, 0.6], \n",
    "             'subsamples': [0.3, 0.6, 0.9]} \n",
    "\n",
    "\n",
    "for i, xgb_asyn_subsample in enumerate(parameter_grid['subsamples']):\n",
    "    \n",
    "\n",
    "    # plotting the subplot \n",
    "    plt.subplot(1,len(parameter_grid['subsamples']), i+1)\n",
    "    creditcard_df = xgb_asyn_cv_results[xgb_asyn_cv_results['param_subsample']==xgb_asyn_subsample]\n",
    "\n",
    "    plt.plot(creditcard_df[\"param_learning_rate\"], creditcard_df[\"mean_test_score\"])\n",
    "    plt.plot(creditcard_df[\"param_learning_rate\"], creditcard_df[\"mean_train_score\"])\n",
    "    plt.xlabel('Learning_rate of XGBoost')\n",
    "    plt.ylabel('AUC Of XGBoost')\n",
    "    plt.title(\"subsamples={0}\".format(xgb_asyn_subsample))\n",
    "    plt.ylim([0.60, 1])\n",
    "    plt.legend(['test data score', 'train data score'], loc='upper right')\n",
    "    plt.xscale('log')  \n",
    "    \n",
    "    \n"
   ]
  },
  {
   "cell_type": "code",
   "execution_count": null,
   "metadata": {},
   "outputs": [],
   "source": [
    "xgb_asyn_model_cv.best_params_"
   ]
  },
  {
   "cell_type": "code",
   "execution_count": null,
   "metadata": {},
   "outputs": [],
   "source": [
    "# specified hyperparameters\n",
    "parameters = {'learning_rate': 0.4,\n",
    "          'max_depth': 3, \n",
    "          'n_estimators':300,\n",
    "          'subsample':0.9,\n",
    "         'objective':'binary:logistic'}\n",
    "\n",
    "# fitting  the model on training data\n",
    "xgb_asyn_model = XGBClassifier(params = parameters)\n",
    "xgb_asyn_model.fit(X_train_adasyn, Y_train_adasyn)"
   ]
  },
  {
   "cell_type": "code",
   "execution_count": null,
   "metadata": {},
   "outputs": [],
   "source": [
    "asyn_train_modeling(\"XGBoost\",xgb_asyn_model)"
   ]
  },
  {
   "cell_type": "code",
   "execution_count": null,
   "metadata": {},
   "outputs": [],
   "source": [
    "asyn_test_modeling(\"XGBoost\",xgb_asyn_model)"
   ]
  },
  {
   "cell_type": "code",
   "execution_count": null,
   "metadata": {},
   "outputs": [],
   "source": [
    "# Creating the dataframe for storing the results of undersampled dataset performance metrics of train data and test data\n",
    "asyn_train_results.sort_values(by='ROC', ascending=False)"
   ]
  },
  {
   "cell_type": "code",
   "execution_count": null,
   "metadata": {},
   "outputs": [],
   "source": [
    "# Creating the dataframe for storing the results of undersampled dataset performance metrics of train data and test data\n",
    "asyn_test_results.sort_values(by='ROC', ascending=False)"
   ]
  },
  {
   "cell_type": "code",
   "execution_count": null,
   "metadata": {},
   "outputs": [],
   "source": [
    "scores_df = pd.DataFrame(asyn_test_results)\n",
    "scores_df.plot(x='Model Name',kind='bar',figsize=(8, 8))\n",
    "\n"
   ]
  },
  {
   "cell_type": "code",
   "execution_count": null,
   "metadata": {},
   "outputs": [],
   "source": []
  }
 ],
 "metadata": {
  "kernelspec": {
   "display_name": "Python 3",
   "language": "python",
   "name": "python3"
  },
  "language_info": {
   "codemirror_mode": {
    "name": "ipython",
    "version": 3
   },
   "file_extension": ".py",
   "mimetype": "text/x-python",
   "name": "python",
   "nbconvert_exporter": "python",
   "pygments_lexer": "ipython3",
   "version": "3.8.8"
  }
 },
 "nbformat": 4,
 "nbformat_minor": 4
}
